{
 "cells": [
  {
   "cell_type": "markdown",
   "id": "90653e9e",
   "metadata": {},
   "source": [
    "## Problem\n",
    "Implement a stack that has the following methods:\n",
    "\n",
    "- push(val), which pushes an element onto the stack\n",
    "- pop(), which pops off and returns the topmost element of the stack. If there are no elements in the stack, then it should throw an error or return null.\n",
    "- max(), which returns the maximum value in the stack currently. If there are no elements in the stack, then it should throw an error or return null.\n",
    "\n",
    "Each method should run in constant time.\n"
   ]
  },
  {
   "cell_type": "markdown",
   "id": "f560a584",
   "metadata": {},
   "source": [
    "## Solution\n",
    "We can use a list to implement the stack with append and pop. However getting the max from the list in constant time will be trickier. \n",
    "\n",
    "To solve this, we can use a secondary stack that only keeps track of the max values at any given time. It will be in sync with the primary stack, and it will have the exact number of elements as our primary stack at any point in time, but the top of the stack will always contain the maximum value of the stack.\n",
    "\n",
    "When pushing, we check if the element we are pushing is greater than the max value in the secondary stack (by looking at the top which takes constant time).\n",
    "\n",
    "If it is greater, we push it to be the new max value, if not, then we maintain the previous value.\n"
   ]
  },
  {
   "cell_type": "code",
   "execution_count": 7,
   "id": "680d3794",
   "metadata": {},
   "outputs": [],
   "source": [
    "class MaxStack:\n",
    "    def __init__(self):\n",
    "        self.stack = []\n",
    "        self.maxes = []\n",
    "        \n",
    "    def push(self, val):\n",
    "        self.stack.append(val)\n",
    "        if self.maxes:\n",
    "            self.maxes.append(max(val, self.maxes[-1]))\n",
    "        else:\n",
    "            self.maxes.append(val)\n",
    "    def pop(self):\n",
    "        if self.maxes:\n",
    "            self.maxes.pop()\n",
    "        return self.stack.pop() if self.stack else None\n",
    "    \n",
    "    def max(self):\n",
    "        return self.maxes[-1]"
   ]
  },
  {
   "cell_type": "code",
   "execution_count": 13,
   "id": "63b61a0f",
   "metadata": {},
   "outputs": [
    {
     "data": {
      "text/plain": [
       "9"
      ]
     },
     "execution_count": 13,
     "metadata": {},
     "output_type": "execute_result"
    }
   ],
   "source": [
    "stack = MaxStack()\n",
    "for i in range(10):\n",
    "    stack.push(i)\n",
    "stack.max()"
   ]
  },
  {
   "cell_type": "code",
   "execution_count": 14,
   "id": "4eb41fa4",
   "metadata": {},
   "outputs": [
    {
     "data": {
      "text/plain": [
       "8"
      ]
     },
     "execution_count": 14,
     "metadata": {},
     "output_type": "execute_result"
    }
   ],
   "source": [
    "stack.pop()\n",
    "stack.max()"
   ]
  },
  {
   "cell_type": "code",
   "execution_count": null,
   "id": "7827612c",
   "metadata": {},
   "outputs": [],
   "source": []
  }
 ],
 "metadata": {
  "kernelspec": {
   "display_name": "Python 3 (ipykernel)",
   "language": "python",
   "name": "python3"
  },
  "language_info": {
   "codemirror_mode": {
    "name": "ipython",
    "version": 3
   },
   "file_extension": ".py",
   "mimetype": "text/x-python",
   "name": "python",
   "nbconvert_exporter": "python",
   "pygments_lexer": "ipython3",
   "version": "3.9.7"
  }
 },
 "nbformat": 4,
 "nbformat_minor": 5
}
