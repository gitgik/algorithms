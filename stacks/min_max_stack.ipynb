{
 "cells": [
  {
   "cell_type": "markdown",
   "metadata": {},
   "source": [
    "## Problem\n",
    "Write a min max stack class. The class should support pushing, \n",
    "popping values on and off the stack, peeking values at the top of the stack, and getting the minimum and maximum values from the stack.\n",
    "All operations should run on constant time and constant space."
   ]
  },
  {
   "cell_type": "code",
   "execution_count": 41,
   "metadata": {},
   "outputs": [],
   "source": [
    "# Feel free to add new properties and methods to the class.\n",
    "class MinMaxStack:\n",
    "    def __init__(self):\n",
    "        self.min_max_stack = []\n",
    "        self.stack = []\n",
    "        \n",
    "    def peek(self):\n",
    "        return self.stack[len(self.stack) - 1]\n",
    "\n",
    "    def pop(self):\n",
    "        self.min_max_stack.pop()\n",
    "        return self.stack.pop()\n",
    "\n",
    "    def push(self, number):\n",
    "        new_min_max = {'max': number, 'min': number}\n",
    "        if len(self.min_max_stack):\n",
    "            current_min_max = self.min_max_stack[len(self.min_max_stack) - 1]\n",
    "            new_min_max['max'] = max(number, current_min_max['max'])\n",
    "            new_min_max['min'] = min(number, current_min_max['min'])\n",
    "        self.min_max_stack.append(new_min_max)\n",
    "        self.stack.append(number)\n",
    "\n",
    "    def get_min(self):\n",
    "        return self.min_max_stack[len(self.min_max_stack) - 1]['min']\n",
    "\n",
    "    def get_max(self):\n",
    "        return self.min_max_stack[len(self.min_max_stack) - 1]['max']"
   ]
  },
  {
   "cell_type": "code",
   "execution_count": null,
   "metadata": {},
   "outputs": [],
   "source": [
    "# test it out\n",
    "import unittest\n",
    "\n",
    "def test_min_max_peek(self, min, max, peek):\n",
    "    self.assertEqual(self.stack.get_min(), min)\n",
    "    self.assertEqual(self.stack.get_max(), max)\n",
    "    self.assertEqual(self.stack.peek(), peek)\n",
    "        \n",
    "class Test(unittest.TestCase, MinMaxStack):\n",
    "    def test_min_max_stack_and_peek(self):\n",
    "        self.stack = MinMaxStack()\n",
    "        self.stack.push(3)\n",
    "        test_min_max_peek(self, 3, 3, 3)\n",
    "        \n",
    "    def test_pushing_to_stack(self):\n",
    "        self.stack = MinMaxStack()\n",
    "        self.stack.push(1)\n",
    "        self.assertEqual(self.stack.stack, [1])\n",
    "    \n",
    "    def test_popping_from_stack(self):\n",
    "        self.stack = MinMaxStack()\n",
    "        self.stack.push(2)\n",
    "        self.stack.push(3)\n",
    "        self.stack.push(7)\n",
    "        self.assertEqual(self.stack.pop(), 7)\n",
    "\n",
    "if __name__ == \"__main__\":\n",
    "    unittest.main(argv=['first-arg-is-ignored'], exit=False)"
   ]
  }
 ],
 "metadata": {
  "kernelspec": {
   "display_name": "Python 3 (ipykernel)",
   "language": "python",
   "name": "python3"
  },
  "language_info": {
   "codemirror_mode": {
    "name": "ipython",
    "version": 3
   },
   "file_extension": ".py",
   "mimetype": "text/x-python",
   "name": "python",
   "nbconvert_exporter": "python",
   "pygments_lexer": "ipython3",
   "version": "3.9.7"
  }
 },
 "nbformat": 4,
 "nbformat_minor": 2
}
