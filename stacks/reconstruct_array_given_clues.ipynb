{
 "cells": [
  {
   "cell_type": "markdown",
   "id": "5feb4d81",
   "metadata": {},
   "source": [
    "## Reconstruct array sequence using clues\n",
    "\n",
    "The sequence `[0, 1, ..., N]` is jumbled, and the only clue you have for its order is an array showing whether each number is larger or smaller than the last.\n",
    "\n",
    "Reconstuct an array that's consistent with this information.\n",
    "\n",
    "Example: Given `[None, +, -, +, +]`, return an array that obeys this order, like: `[1, 2, 0, 3, 4]`"
   ]
  },
  {
   "cell_type": "markdown",
   "id": "24f64d08",
   "metadata": {},
   "source": [
    "## Solution\n",
    "Notice that if the clue array contains only consecutive +ves, we can return original sequence of `[0, 1,..,N]`. Similarly, if it contains only consecutive -ves, we return the sequence reversed (to produce decreasing run of numbers).\n",
    "For example, given `[None, +, -, -, -]` we reverse the last 3 entries of `[0, 1, 2, 3, 4]` to become `[0, 1, 4, 3, 2]`\n",
    "\n",
    "We can use this little trick to more complicated inputs. We can use a stack to keep track of numbers to be reversed.\n",
    "\n",
    "As we traverse the clues input array, we keep track of the corresponding elements of the original sequence. \n",
    "- For consecutive positive signs, keep the elements of the original sequence.\n",
    "- For consecutive negative signs, push those elements onto stack. When we come to the end of negatives run, pop elements off one by one to get a decreasing subsequence in our answer. \n",
    "\n",
    "Additionally, since there are fewer + or - sign than elements in our answer, we will add the last element to the stack.\n",
    "We finally empty the stack one by one, appending to our answer."
   ]
  },
  {
   "cell_type": "code",
   "execution_count": 20,
   "id": "9b58a71c",
   "metadata": {},
   "outputs": [],
   "source": [
    "def reconstruct(array):\n",
    "    answer = []\n",
    "    n = len(array) - 1\n",
    "    stack = []\n",
    "    \n",
    "    for i in range(n):\n",
    "        print(f\"iteration {i}\")\n",
    "        if array[i + 1] == \"-\":\n",
    "            stack.append(i)\n",
    "            print(f\"answer has {answer}\")\n",
    "        else:\n",
    "            answer.append(i)\n",
    "            while stack:\n",
    "                answer.append(stack.pop())\n",
    "            \n",
    "            print(f\"answer has {answer}\")\n",
    "\n",
    "    # append last element\n",
    "    stack.append(n)\n",
    "    \n",
    "    # add consecutive -ves run if any, or just the last element\n",
    "    while stack:\n",
    "        answer.append(stack.pop())\n",
    "        \n",
    "    return answer    "
   ]
  },
  {
   "cell_type": "code",
   "execution_count": 21,
   "id": "6a9d33c4",
   "metadata": {},
   "outputs": [
    {
     "name": "stdout",
     "output_type": "stream",
     "text": [
      "iteration 0\n",
      "answer has [0]\n",
      "iteration 1\n",
      "answer has [0]\n",
      "iteration 2\n",
      "answer has [0]\n",
      "iteration 3\n",
      "answer has [0]\n",
      "iteration 4\n",
      "answer has [0, 4, 3, 2, 1]\n"
     ]
    },
    {
     "data": {
      "text/plain": [
       "[0, 4, 3, 2, 1, 5]"
      ]
     },
     "execution_count": 21,
     "metadata": {},
     "output_type": "execute_result"
    }
   ],
   "source": [
    "reconstruct([None, '+', '-', '-', '-', '+'])"
   ]
  },
  {
   "cell_type": "code",
   "execution_count": null,
   "id": "d6fb234a",
   "metadata": {},
   "outputs": [],
   "source": []
  }
 ],
 "metadata": {
  "kernelspec": {
   "display_name": "Python 3 (ipykernel)",
   "language": "python",
   "name": "python3"
  },
  "language_info": {
   "codemirror_mode": {
    "name": "ipython",
    "version": 3
   },
   "file_extension": ".py",
   "mimetype": "text/x-python",
   "name": "python",
   "nbconvert_exporter": "python",
   "pygments_lexer": "ipython3",
   "version": "3.9.7"
  }
 },
 "nbformat": 4,
 "nbformat_minor": 5
}
