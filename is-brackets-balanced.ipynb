{
 "cells": [
  {
   "cell_type": "markdown",
   "id": "f13f27d6",
   "metadata": {},
   "source": [
    "## Balanced opening and closing brackets\n",
    "Given a string of round, curly and square opening and closing brackets, return whether the brackets are balanced.\n",
    "\n",
    "For example, \n",
    "-  Given the string \"([])[]({})\", return true.\n",
    "-  Given the string \"([)]\" or \"(()\" return false.\n",
    "\n"
   ]
  },
  {
   "cell_type": "markdown",
   "id": "1c04ae35",
   "metadata": {},
   "source": [
    "## Solution\n",
    "If we had only round brackets, one approach is to have a counter and increment it for every opening bracket we see and decrement it on every closing bracket. If we get to the end of string and have a non-zero count, then it means it's unbalanced.\n",
    "\n",
    "-Ve number would mean more closing brackets,\n",
    "+Ve number would show the opposite.\n",
    "\n",
    "In the case of round, curly and square brackets, we must keep track of what kind of brackets they are as well, because we cannot match a square bracket with a curly one.\n",
    "\n",
    "- We'll use a stack to keep track of the actual bracket character and push onto it whenever we encounter an open bracket, and pop if we encounter a matching closing bracket to the top of the stack.\n",
    "- If stack == empty or it's not the correct matching bracket, return false.\n",
    "- If after iterating through the string, we have some left over bracket in the stack, then it means it's unbalanced, so we return whether it's empty or not.\n"
   ]
  },
  {
   "cell_type": "code",
   "execution_count": 1,
   "id": "98309a74",
   "metadata": {},
   "outputs": [],
   "source": [
    "def is_balanced(s):\n",
    "    stack = []\n",
    "    for char in s:\n",
    "        if char in [\"(\", \"[\", \"{\"]:\n",
    "            stack.append(char)\n",
    "        else:\n",
    "            if not stack:\n",
    "                return False\n",
    "            \n",
    "            if (char == \")\" and stack[-1] != \"(\") or \\\n",
    "               (char == \"]\" and stack[-1] != \"[\") or \\\n",
    "               (char == \"{\" and stack[-1] != \"{\"):\n",
    "                return False\n",
    "            stack.pop()\n",
    "    \n",
    "    return len(stack) == 0"
   ]
  },
  {
   "cell_type": "code",
   "execution_count": 2,
   "id": "9d941f88",
   "metadata": {},
   "outputs": [
    {
     "data": {
      "text/plain": [
       "True"
      ]
     },
     "execution_count": 2,
     "metadata": {},
     "output_type": "execute_result"
    }
   ],
   "source": [
    "is_balanced(\"([])\")"
   ]
  },
  {
   "cell_type": "code",
   "execution_count": 3,
   "id": "dd392110",
   "metadata": {},
   "outputs": [
    {
     "data": {
      "text/plain": [
       "False"
      ]
     },
     "execution_count": 3,
     "metadata": {},
     "output_type": "execute_result"
    }
   ],
   "source": [
    "is_balanced(\"{{{]}}}\")"
   ]
  },
  {
   "cell_type": "code",
   "execution_count": 4,
   "id": "38a49272",
   "metadata": {},
   "outputs": [
    {
     "data": {
      "text/plain": [
       "False"
      ]
     },
     "execution_count": 4,
     "metadata": {},
     "output_type": "execute_result"
    }
   ],
   "source": [
    "is_balanced(\"([)]\")"
   ]
  },
  {
   "cell_type": "code",
   "execution_count": 5,
   "id": "d3c54ef5",
   "metadata": {},
   "outputs": [
    {
     "data": {
      "text/plain": [
       "True"
      ]
     },
     "execution_count": 5,
     "metadata": {},
     "output_type": "execute_result"
    }
   ],
   "source": [
    "is_balanced(\"()()\")"
   ]
  },
  {
   "cell_type": "code",
   "execution_count": null,
   "id": "67d3b693",
   "metadata": {},
   "outputs": [],
   "source": []
  }
 ],
 "metadata": {
  "kernelspec": {
   "display_name": "Python 3 (ipykernel)",
   "language": "python",
   "name": "python3"
  },
  "language_info": {
   "codemirror_mode": {
    "name": "ipython",
    "version": 3
   },
   "file_extension": ".py",
   "mimetype": "text/x-python",
   "name": "python",
   "nbconvert_exporter": "python",
   "pygments_lexer": "ipython3",
   "version": "3.9.13"
  }
 },
 "nbformat": 4,
 "nbformat_minor": 5
}
