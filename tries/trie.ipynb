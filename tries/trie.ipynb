{
 "cells": [
  {
   "cell_type": "code",
   "execution_count": 13,
   "metadata": {},
   "outputs": [],
   "source": [
    "# Implementation of a trie\n",
    "from collections import defaultdict\n",
    "\n",
    "\n",
    "class TrieNode():\n",
    "    def __init__(self):\n",
    "        self.children = defaultdict()\n",
    "        self.terminating = False\n",
    "    \n",
    "    def __repr__(self):\n",
    "        return f'{self.children.keys()}'\n",
    "\n",
    "class Trie():\n",
    "    def __init__(self):\n",
    "        \"\"\"Initialize variables.\"\"\"\n",
    "        self.root = self.get_node()\n",
    "\n",
    "    def get_node(self):\n",
    "        \"\"\"Get the node from the trie.\"\"\"\n",
    "        return TrieNode()\n",
    "\n",
    "    def get_index(self, character):\n",
    "        \"\"\"Get the index of a node in the trie.\n",
    "        \"\"\"\n",
    "        return ord(character) - ord('a')\n",
    "\n",
    "    def insert(self, word):\n",
    "        \"\"\"Insert a word into the trie.\"\"\"\n",
    "        root = self.root\n",
    "        for i in range(len(word)):\n",
    "            index = self.get_index(word[i])\n",
    "\n",
    "            if index not in root.children:\n",
    "                root.children[index] = self.get_node()\n",
    "            root = root.children.get(index)\n",
    "        root.terminating = True\n",
    "\n",
    "    def search(self, word):\n",
    "        \"\"\"Search for a word in the trie.\"\"\"\n",
    "        root = self.root\n",
    "        print(f'Root:{root}')\n",
    "        for i in range(len(word)):\n",
    "            index = self.get_index(word[i])\n",
    "\n",
    "            if not root:\n",
    "                return False\n",
    "            root = root.children.get(index)\n",
    "            print(f'<<<<{root}')\n",
    "        return True if root and root.terminating else False\n",
    "\n",
    "    def delete(self, word):\n",
    "        \"\"\"Delete a word from the trie.\"\"\"\n",
    "        for i in range(len(word)):\n",
    "            index = self.get_index(word[i])\n",
    "            if not self.root:\n",
    "                print(f'Word: {word} not found')\n",
    "                return -1\n",
    "            self.root = self.root.children.get(index)\n",
    "        if not self.root:\n",
    "            print(f'Word: {word} not found')\n",
    "            return -1\n",
    "        else:\n",
    "            self.root.terminating = False\n",
    "            return 0\n",
    "\n",
    "    def update(self, old_word, new_word):\n",
    "        \"\"\"Update a word by removing one and replacing it with another.\"\"\"\n",
    "        val = self.delete(old_word)\n",
    "        if val == 0:\n",
    "            self.insert(new_word)"
   ]
  },
  {
   "cell_type": "code",
   "execution_count": 19,
   "metadata": {},
   "outputs": [
    {
     "name": "stdout",
     "output_type": "stream",
     "text": [
      "Root:dict_keys([22, 19, 1, 2])\n",
      "<<<<dict_keys([14])\n",
      "<<<<dict_keys([17, 22, 13])\n",
      "<<<<dict_keys([])\n",
      "True\n"
     ]
    }
   ],
   "source": [
    "trie = Trie()\n",
    "\n",
    "strings = ['word', 'words', 'wow', 'won', 'wont', 'tries', 'bow', 'cow']\n",
    "for entry in strings:\n",
    "    trie.insert(entry)\n",
    "\n",
    "print(trie.search('wow'))\n",
    "# trie.update('wow', 'well')\n",
    "# trie.delete('well')\n",
    "# print(trie.search('well'))"
   ]
  },
  {
   "cell_type": "code",
   "execution_count": 33,
   "metadata": {},
   "outputs": [
    {
     "data": {
      "text/plain": [
       "defaultdict(None, {14: dict_keys([17, 22, 13])})"
      ]
     },
     "execution_count": 33,
     "metadata": {},
     "output_type": "execute_result"
    }
   ],
   "source": [
    "trie.root.children.get(22).children"
   ]
  },
  {
   "cell_type": "code",
   "execution_count": null,
   "metadata": {},
   "outputs": [],
   "source": []
  }
 ],
 "metadata": {
  "kernelspec": {
   "display_name": "Python 3 (ipykernel)",
   "language": "python",
   "name": "python3"
  },
  "language_info": {
   "codemirror_mode": {
    "name": "ipython",
    "version": 3
   },
   "file_extension": ".py",
   "mimetype": "text/x-python",
   "name": "python",
   "nbconvert_exporter": "python",
   "pygments_lexer": "ipython3",
   "version": "3.11.7"
  }
 },
 "nbformat": 4,
 "nbformat_minor": 4
}
