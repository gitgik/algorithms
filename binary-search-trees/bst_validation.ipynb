{
 "cells": [
  {
   "cell_type": "markdown",
   "metadata": {},
   "source": [
    "## Validate Binary Search Tree\n",
    "\n",
    "Given a binary tree, determine if it is a valid binary search tree (BST).\n",
    "\n",
    "A BST is defined as follows:\n",
    "\n",
    "- The left subtree of a node contains only nodes with keys less than the node's key.\n",
    "- The right subtree of a node contains only nodes with keys greater than the node's key.\n",
    "- Both the left and right subtrees must also be binary search trees."
   ]
  },
  {
   "cell_type": "code",
   "execution_count": 5,
   "metadata": {},
   "outputs": [],
   "source": [
    "class Node:\n",
    "    def __init__(self, value: int):\n",
    "        self.value = value\n",
    "        self.left = None\n",
    "        self.right = None\n",
    "\n",
    "        \n",
    "def is_bst(root: Node) -> bool:\n",
    "    return is_bst_helper(root, min_value=float(\"-inf\"), max_value=float(\"inf\"))\n",
    "\n",
    "def is_bst_helper(root, min_value, max_value):\n",
    "    \"\"\" O(n) time | O(d) space, where d == the depth of the binary search tree.\"\"\"\n",
    "    if root is None:\n",
    "        return True\n",
    "    if root.value <= min_value or root.value >= max_value:\n",
    "        return False\n",
    "\n",
    "    left_is_valid = is_bst_helper(root.left, min_value, root.value)\n",
    "    right_is_valid = is_bst_helper(root.right, root.value, max_value)\n",
    "    return left_is_valid and right_is_valid\n"
   ]
  },
  {
   "cell_type": "code",
   "execution_count": 6,
   "metadata": {},
   "outputs": [
    {
     "data": {
      "text/plain": [
       "True"
      ]
     },
     "execution_count": 6,
     "metadata": {},
     "output_type": "execute_result"
    }
   ],
   "source": [
    "sometree = Node(10)\n",
    "sometree.left = Node(7)\n",
    "sometree.right = Node(11)\n",
    "\n",
    "is_bst(sometree)"
   ]
  },
  {
   "cell_type": "code",
   "execution_count": null,
   "metadata": {},
   "outputs": [],
   "source": []
  }
 ],
 "metadata": {
  "kernelspec": {
   "display_name": "Python 3 (ipykernel)",
   "language": "python",
   "name": "python3"
  },
  "language_info": {
   "codemirror_mode": {
    "name": "ipython",
    "version": 3
   },
   "file_extension": ".py",
   "mimetype": "text/x-python",
   "name": "python",
   "nbconvert_exporter": "python",
   "pygments_lexer": "ipython3",
   "version": "3.11.7"
  }
 },
 "nbformat": 4,
 "nbformat_minor": 4
}
