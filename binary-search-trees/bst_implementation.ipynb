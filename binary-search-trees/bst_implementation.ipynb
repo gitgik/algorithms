{
 "cells": [
  {
   "cell_type": "markdown",
   "metadata": {},
   "source": [
    "## BST implementation\n",
    "\n",
    "A node is said to be a BST node if and only if it satisfies the BST property:\n",
    "   - its value is greater than all the node values to its left; \n",
    "   - its values is less than the values of every node to its right, \n",
    "   - and all its children nodes are either BST nodes themselves or null values.\n",
    "\n",
    "> The BST should support insertion, searching and removal of values.\n",
    "  The removal method should only remove the first instance of the target value.\n",
    "class "
   ]
  },
  {
   "cell_type": "code",
   "execution_count": 2,
   "metadata": {},
   "outputs": [],
   "source": [
    "class BST:\n",
    "    \"\"\"\n",
    "    We'll use the iterative approach (due to constant space).\n",
    "    Recursive approach creates a call stack in memory -> O(n) space.\n",
    "    \"\"\"\n",
    "\n",
    "    def __init__(self, value: int):\n",
    "        self.value = value\n",
    "        self.left = None\n",
    "        self.right = None\n",
    "\n",
    "    def insert(self, value):\n",
    "        \"\"\"Average Case: O(log(N)) time | O(1) space\n",
    "        Worst Case: (Where the tree is unbalanced \n",
    "        and has only one branch to the left)\n",
    "            O(n) time, where n = number of nodes in the tree\n",
    "            O(1) space\n",
    "        \"\"\"\n",
    "        current_node = self\n",
    "        while True:\n",
    "            if value < current_node.value:\n",
    "                if current_node.left is None:\n",
    "                    current_node.left = BST(value)\n",
    "                    break\n",
    "                else:\n",
    "                    current_node = current_node.left\n",
    "            else:\n",
    "                # value is greater than current node's value\n",
    "                if current_node.right is None:\n",
    "                    current_node.right = BST(value)\n",
    "                    break\n",
    "                else:\n",
    "                    current_node = current_node.right\n",
    "        return self\n",
    "\n",
    "    def contains(self, value):\n",
    "        \"\"\"Average Case: O(log(N)) time |  O(1) space\n",
    "        Worst Case: O(n) time | O(1) space\n",
    "        \"\"\"\n",
    "        current_node = self\n",
    "        while current_node is not None:\n",
    "            if value < current_node.value:\n",
    "                current_node = current_node.left\n",
    "            elif value > current_node.value:\n",
    "                current_node = current_node.right\n",
    "            else:\n",
    "                # found it!\n",
    "                return True\n",
    "        return False\n",
    "\n",
    "    def remove(self, value, parent_node=None):\n",
    "        \"\"\"Average Case: O(log(N)) time | O(1) space\n",
    "        Worst Case: O(n) time, O(1) space\n",
    "        \"\"\"\n",
    "        current_node = self\n",
    "        while current_node is not None:\n",
    "            if value < current_node.value:\n",
    "                parent_node = current_node\n",
    "                current_node = current_node.left\n",
    "            elif value > current_node.value:\n",
    "                parent_node = current_node\n",
    "                current_node = current_node.right\n",
    "            else:\n",
    "                # we've found the node, time to delete it\n",
    "                if current_node.left is not None and current_node.right is not None:\n",
    "                    # set current node value = smallest value of right subtree.\n",
    "                    current_node.value = current_node.right.get_min_value()\n",
    "                    current_node.right.remove(current_node.value, current_node)\n",
    "                elif parent_node is None:\n",
    "                    # if we are removing the root node (it does not have a parent node)\n",
    "                    if current_node.left is not None:\n",
    "                        current_node.value = current_node.left.value\n",
    "                        current_node.right = current_node.left.right\n",
    "                        current_node.left = current_node.left.left\n",
    "                    elif current_node.right is not None:\n",
    "                        current_node.value = current_node.right.value\n",
    "                        current_node.left = current_node.right.left\n",
    "                        current_node.right = current_node.right.right\n",
    "                    else:\n",
    "                        # no child nodes exist for this BST, so do nothing\n",
    "                        pass\n",
    "                elif parent_node.left == current_node:\n",
    "                    parent_node.left = (\n",
    "                        current_node.left if current_node.left is not None else\n",
    "                        current_node.right)\n",
    "                elif parent_node.right == current_node:\n",
    "                    parent_node.right = (\n",
    "                        current_node.left if current_node.left is not None else\n",
    "                        current_node.right)\n",
    "                break\n",
    "        return self\n",
    "\n",
    "    def get_min_value(self):\n",
    "        \"\"\"Finds the smallest value in a sub-tree.\"\"\"\n",
    "        current_node = self\n",
    "        while current_node.left is not None:\n",
    "            current_node = current_node.left\n",
    "        return current_node.value"
   ]
  },
  {
   "cell_type": "code",
   "execution_count": 3,
   "metadata": {},
   "outputs": [
    {
     "data": {
      "text/plain": [
       "True"
      ]
     },
     "execution_count": 3,
     "metadata": {},
     "output_type": "execute_result"
    }
   ],
   "source": [
    "bst = BST(10).insert(5).insert(15).insert(\n",
    "        7).insert(2).insert(14).insert(22)\n",
    "\n",
    "bst.contains(22)"
   ]
  },
  {
   "cell_type": "code",
   "execution_count": 4,
   "metadata": {},
   "outputs": [
    {
     "data": {
      "text/plain": [
       "<__main__.BST at 0x207493eeb10>"
      ]
     },
     "execution_count": 4,
     "metadata": {},
     "output_type": "execute_result"
    }
   ],
   "source": [
    "bst"
   ]
  },
  {
   "cell_type": "code",
   "execution_count": 5,
   "metadata": {},
   "outputs": [
    {
     "data": {
      "text/plain": [
       "10"
      ]
     },
     "execution_count": 5,
     "metadata": {},
     "output_type": "execute_result"
    }
   ],
   "source": [
    "bst.value"
   ]
  },
  {
   "cell_type": "code",
   "execution_count": 6,
   "metadata": {},
   "outputs": [
    {
     "data": {
      "text/plain": [
       "5"
      ]
     },
     "execution_count": 6,
     "metadata": {},
     "output_type": "execute_result"
    }
   ],
   "source": [
    "bst.left.value"
   ]
  },
  {
   "cell_type": "code",
   "execution_count": 9,
   "metadata": {},
   "outputs": [],
   "source": [
    "class Node:\n",
    "    from typing import List\n",
    "    def __init__(self, value: int):\n",
    "        self._value = value\n",
    "        self._left = None\n",
    "        self._right = None\n",
    "\n",
    "a_node = Node(19)\n",
    "a_node.left = Node(16)\n",
    "a_node.right = Node(10)"
   ]
  },
  {
   "cell_type": "code",
   "execution_count": 10,
   "metadata": {},
   "outputs": [
    {
     "data": {
      "text/plain": [
       "<__main__.Node at 0x207493d7450>"
      ]
     },
     "execution_count": 10,
     "metadata": {},
     "output_type": "execute_result"
    }
   ],
   "source": [
    "a_node.left"
   ]
  },
  {
   "cell_type": "code",
   "execution_count": null,
   "metadata": {},
   "outputs": [],
   "source": []
  }
 ],
 "metadata": {
  "kernelspec": {
   "display_name": "Python 3 (ipykernel)",
   "language": "python",
   "name": "python3"
  },
  "language_info": {
   "codemirror_mode": {
    "name": "ipython",
    "version": 3
   },
   "file_extension": ".py",
   "mimetype": "text/x-python",
   "name": "python",
   "nbconvert_exporter": "python",
   "pygments_lexer": "ipython3",
   "version": "3.11.7"
  }
 },
 "nbformat": 4,
 "nbformat_minor": 4
}
