{
 "cells": [
  {
   "cell_type": "markdown",
   "metadata": {},
   "source": [
    "### Remove a node in a Binary Search Tree.\n",
    "\n",
    "Given a Binary search tree (BST), remove a node from the tree.\n",
    "Each BST node has a `value`, a `left` node and a `right` node\n",
    "\n",
    "A node is said to be a valid BST if it meets the following requirements:\n",
    "    1. Its value is strictly > than the value of every node to its left,\n",
    "    2. Its value is less than or equal to every node to its right,\n",
    "    3. Its children nodes are either valid BST nodes or null.\n",
    "\n"
   ]
  },
  {
   "cell_type": "code",
   "execution_count": null,
   "metadata": {},
   "outputs": [],
   "source": [
    "class BST:\n",
    "    def __init__(self, value: int):\n",
    "        self.value = value\n",
    "        self.left = None\n",
    "        self.right = None\n",
    "        \n",
    "    def remove(self, value: int, parent_node: BST) -> 'BST':\n",
    "        \"\"\"Complexity:\n",
    "            Average: O(log (n)) time, O(1) space, where n is the total number of nodes in the tree\n",
    "            Worst case: O(n) time, O(1) space\n",
    "        \"\"\"\n",
    "        current = self\n",
    "        \n",
    "        while current is not None:\n",
    "            if value < current.value:\n",
    "                parent_node = current\n",
    "                current = current.left\n",
    "            elif value > current.value:\n",
    "                parent_node = current\n",
    "                current = current.right\n",
    "            else:\n",
    "                # first subcase: found the node, (value == current.value)\n",
    "                if current.left is not None and current.right is not None:\n",
    "                    # go ahead and find the smallest node in the right subtree to replace the current node\n",
    "                    current.value = current.right.get_min_value()\n",
    "                    \n",
    "                    # delete the node that we got the min value from\n",
    "                    current.right.remove(current.value, parent_node=current)\n",
    "                # second subcase: we are removing the root node\n",
    "                elif parent_node is None:\n",
    "                    # At this point, the root node we want to remove has only one branch: left or right.\n",
    "                    if current.left is not None:\n",
    "                        current.value = current.left.value\n",
    "                        current.right = current.left.right\n",
    "                        current.left = current.left.left\n",
    "                    elif current.right is not None:\n",
    "                        current.value = current.right.value\n",
    "                        current.left = current.right.left\n",
    "                        current.right = current.right.right\n",
    "                    else:\n",
    "                        # The tree has a single node. Do nothing.\n",
    "                        pass\n",
    "                elif parent_node.left == current:\n",
    "                        parent_node.left = current.left if current.left is not None else current.right\n",
    "                elif parent_node.right == current:\n",
    "                        parent_node.right = current.left if current.left is not None else current.right\n",
    "                # we've found the value, lets just break\n",
    "                break\n",
    "        return self\n",
    "    \n",
    "    def get_min_value(self) -> int:\n",
    "        node = self\n",
    "        while node.left is not None:\n",
    "            node = node.left\n",
    "        return node.value\n",
    "                \n"
   ]
  }
 ],
 "metadata": {
  "kernelspec": {
   "display_name": "Python 3 (ipykernel)",
   "language": "python",
   "name": "python3"
  },
  "language_info": {
   "codemirror_mode": {
    "name": "ipython",
    "version": 3
   },
   "file_extension": ".py",
   "mimetype": "text/x-python",
   "name": "python",
   "nbconvert_exporter": "python",
   "pygments_lexer": "ipython3",
   "version": "3.11.7"
  }
 },
 "nbformat": 4,
 "nbformat_minor": 4
}
