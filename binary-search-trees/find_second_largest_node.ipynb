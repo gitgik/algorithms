{
 "cells": [
  {
   "cell_type": "markdown",
   "metadata": {},
   "source": [
    "### Find second largest node in BST\n",
    "\n",
    "Given the root to a binary search tree, find the second largest node in the tree."
   ]
  },
  {
   "cell_type": "code",
   "execution_count": 1,
   "metadata": {},
   "outputs": [],
   "source": [
    "\n",
    "def find_node(root):\n",
    "    \"\"\"Complexity\n",
    "        O(log(n)) time, where n is total number of nodes in BST\n",
    "        O(1) space\n",
    "    \"\"\"\n",
    "    current = root\n",
    "    if current.right is None:\n",
    "        if current.left is not None:\n",
    "            return current.left.value\n",
    "        else:\n",
    "            # we have a single node BST. There's no other second value to return\n",
    "            return None\n",
    "    else:\n",
    "        while current.right is not None:\n",
    "            if current.right.right is None:\n",
    "                second_largest = current.value\n",
    "                break\n",
    "            else:\n",
    "                current = current.right\n",
    "        return second_largest"
   ]
  },
  {
   "cell_type": "code",
   "execution_count": 5,
   "metadata": {},
   "outputs": [
    {
     "data": {
      "text/plain": [
       "12"
      ]
     },
     "execution_count": 5,
     "metadata": {},
     "output_type": "execute_result"
    }
   ],
   "source": [
    "class BSTNode:\n",
    "    def __init__(self, value):\n",
    "        self.value = value\n",
    "        self.left = None\n",
    "        self.right = None\n",
    "\n",
    "bst = BSTNode(10)\n",
    "bst.left = BSTNode(5)\n",
    "bst.right = BSTNode(12)\n",
    "bst.right.left = BSTNode(11)\n",
    "bst.right.right = BSTNode(14)\n",
    "\n",
    "find_node(bst)"
   ]
  },
  {
   "cell_type": "code",
   "execution_count": 6,
   "metadata": {},
   "outputs": [
    {
     "data": {
      "text/plain": [
       "6"
      ]
     },
     "execution_count": 6,
     "metadata": {},
     "output_type": "execute_result"
    }
   ],
   "source": [
    "# second case (for when the tree only has left subtree)\n",
    "bst2 = BSTNode(7)\n",
    "bst2.left = BSTNode(6)\n",
    "bst2.left.left = BSTNode(5)\n",
    "\n",
    "find_node(bst2)"
   ]
  },
  {
   "cell_type": "code",
   "execution_count": null,
   "metadata": {},
   "outputs": [],
   "source": []
  }
 ],
 "metadata": {
  "kernelspec": {
   "display_name": "Python 3 (ipykernel)",
   "language": "python",
   "name": "python3"
  },
  "language_info": {
   "codemirror_mode": {
    "name": "ipython",
    "version": 3
   },
   "file_extension": ".py",
   "mimetype": "text/x-python",
   "name": "python",
   "nbconvert_exporter": "python",
   "pygments_lexer": "ipython3",
   "version": "3.11.7"
  }
 },
 "nbformat": 4,
 "nbformat_minor": 4
}
