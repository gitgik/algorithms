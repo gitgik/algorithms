{
 "cells": [
  {
   "cell_type": "code",
   "execution_count": 1,
   "metadata": {},
   "outputs": [],
   "source": [
    "\"\"\"\n",
    "Given a binary tree, traverse it, adding the node values into an array,\n",
    "returning the array.\n",
    "\n",
    "\n",
    "Assume a BST is defined as follows:\n",
    "\n",
    "* The left subtree of a node contains only nodes with keys < the node's key.\n",
    "* The right subtree of a node contains only nodes with keys > the node's key.\n",
    "* Both the left and right subtrees must also be binary search trees.\n",
    "\"\"\"\n",
    "\n",
    "\n",
    "def in_order_traverse(tree, array):\n",
    "    \"\"\"\n",
    "    Complexity: O(n) time, O(n) space\n",
    "    NOTE: If we were not storing any array, the space complexity = O(d)\n",
    "    where d=depth of the longest branch in the BST.\n",
    "    \"\"\"\n",
    "    if tree is not None:\n",
    "        in_order_traverse(tree.left, array)\n",
    "        array.append(tree.value)\n",
    "        in_order_traverse(tree.right, array)\n",
    "    return array\n",
    "\n",
    "\n",
    "def pre_order_traverse(tree, array):\n",
    "    \"\"\"\n",
    "    Complexity: O(n) time, O(n) space.\n",
    "    \"\"\"\n",
    "    if tree is not None:\n",
    "        array.append(tree.value)\n",
    "        pre_order_traverse(tree.left, array)\n",
    "        pre_order_traverse(tree.right, array)\n",
    "    return array\n",
    "\n",
    "\n",
    "def post_order_traverse(tree, array):\n",
    "    \"\"\"\n",
    "    Complexity: O(n) time, O(n) space\"\"\"\n",
    "    if tree is not None:\n",
    "        post_order_traverse(tree.left, array)\n",
    "        post_order_traverse(tree.right, array)\n",
    "        array.append(tree.value)\n",
    "    return array\n"
   ]
  },
  {
   "cell_type": "code",
   "execution_count": null,
   "metadata": {},
   "outputs": [],
   "source": []
  }
 ],
 "metadata": {
  "kernelspec": {
   "display_name": "Python 3 (ipykernel)",
   "language": "python",
   "name": "python3"
  },
  "language_info": {
   "codemirror_mode": {
    "name": "ipython",
    "version": 3
   },
   "file_extension": ".py",
   "mimetype": "text/x-python",
   "name": "python",
   "nbconvert_exporter": "python",
   "pygments_lexer": "ipython3",
   "version": "3.9.7"
  }
 },
 "nbformat": 4,
 "nbformat_minor": 4
}
