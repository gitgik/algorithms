{
 "cells": [
  {
   "cell_type": "markdown",
   "metadata": {},
   "source": [
    "## Problem\n",
    "Write a function to find the closest value in the BST to a given target integer.\n",
    "\n",
    "The BST contains BST nodes. Each node stores an integer in a property called \"value\", and\n",
    "two children in properties called \"left\" and \"right\".\n",
    "\n",
    "A Node is said to be a BST node if and only if it satisfies the following property:\n",
    "- Its value is greater than the nodes values to its left,\n",
    "- Its value is less than or equal to the node values to its right\n",
    "- Both its children are either BST nodes or None values.\n",
    "\n",
    "\n",
    "We'll define the BST and the function that finds the closest value to the target integer\n",
    "contained in the BST.\n",
    "\n",
    "Sample Input:\n",
    "\n",
    "```\n",
    "    10      Target: 12\n",
    "    /  \\\n",
    "    5    15\n",
    "   / \\   |  \\\n",
    "  2  5  13   22\n",
    " /        \\\n",
    "1          14\n",
    "\n",
    "```\n",
    "\n",
    "Output: `13`"
   ]
  },
  {
   "cell_type": "code",
   "execution_count": 14,
   "metadata": {},
   "outputs": [],
   "source": [
    "import math\n",
    "\n",
    "\n",
    "class BST:\n",
    "    def __init__(self, value: int):\n",
    "        self.value = value\n",
    "        self.left = None\n",
    "        self.right = None\n",
    "\n",
    "    def insert(self, value) -> 'BST':\n",
    "        if value < self.value:\n",
    "            if self.left is None:\n",
    "                self.left = BST(value)\n",
    "            else:\n",
    "                self.left.insert(value)\n",
    "        else:\n",
    "            if self.right is None:\n",
    "                self.right = BST(value)\n",
    "            else:\n",
    "                self.right.insert(value)\n",
    "\n",
    "        return self\n",
    "\n",
    "def findClosestValueInBst(tree, target) -> int:\n",
    "    \"\"\"\n",
    "    First start with infinity as the closest value to the target,\n",
    "    so that we have something to compare to the absolute value difference of (first node - target)\n",
    "    \"\"\"\n",
    "    closest = math.inf\n",
    "    root = tree\n",
    "    while root is not None:\n",
    "        if root.value == target:\n",
    "            return root.value\n",
    "\n",
    "        if abs(root.value - target) < abs(closest - target):\n",
    "            closest = root.value\n",
    "\n",
    "        if root.value < target:\n",
    "            root = root.right\n",
    "        elif root.value > target:\n",
    "            root = root.left\n",
    "        else:\n",
    "            break\n",
    "    return closest"
   ]
  },
  {
   "cell_type": "code",
   "execution_count": 16,
   "metadata": {},
   "outputs": [
    {
     "data": {
      "text/plain": [
       "13"
      ]
     },
     "execution_count": 16,
     "metadata": {},
     "output_type": "execute_result"
    }
   ],
   "source": [
    "bst = BST(10).insert(5).insert(2).insert(5).insert(1).insert(5).insert(15) \\\n",
    "    .insert(13).insert(14).insert(22)\n",
    "\n",
    "findClosestValueInBst(bst, 12)"
   ]
  },
  {
   "cell_type": "code",
   "execution_count": null,
   "metadata": {},
   "outputs": [],
   "source": []
  }
 ],
 "metadata": {
  "kernelspec": {
   "display_name": "Python 3 (ipykernel)",
   "language": "python",
   "name": "python3"
  },
  "language_info": {
   "codemirror_mode": {
    "name": "ipython",
    "version": 3
   },
   "file_extension": ".py",
   "mimetype": "text/x-python",
   "name": "python",
   "nbconvert_exporter": "python",
   "pygments_lexer": "ipython3",
   "version": "3.11.7"
  }
 },
 "nbformat": 4,
 "nbformat_minor": 4
}
