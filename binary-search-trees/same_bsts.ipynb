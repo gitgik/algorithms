{
 "cells": [
  {
   "cell_type": "markdown",
   "metadata": {},
   "source": [
    "## Problem\n",
    "An array of integers represents a Binary Search Tree(BST) obtained by inserting each integer into the array (from left to right) into the BST. \n",
    "\n",
    "Without constructing a BST tree, write a function that returns a boolean indicating whether the two arrays represent the same BST.\n",
    "\n",
    "A BST tree is a tree that consists of only BST nodes. A node is said to be a BST node if it meets the BST property: its value is strictly greater than the values of the every node to its left; its value is less or equal to the nodes to its right, and its children nodes are also BST nodes or Null values.\n",
    "\n",
    "Sample input: \n",
    "```python\n",
    "[10, 15, 8, 12, 92, 81, 5, 2, 11]\n",
    "\n",
    "[10, 8, 5, 15, 2, 12, 11, 94, 81]\n",
    "```\n",
    "\n",
    "Sample output: \n",
    "```\n",
    "True\n",
    "```"
   ]
  },
  {
   "cell_type": "code",
   "execution_count": 1,
   "metadata": {},
   "outputs": [],
   "source": [
    "## Solution 1\n",
    "## Time: O(n**2) | O(n**2), where n is the length of an input array\n",
    "from typing import List\n",
    "\n",
    "def is_same_bst(arr_1: List, arr_2: List) -> bool:\n",
    "    if len(arr_1) != len(arr_2):\n",
    "        return False\n",
    "    \n",
    "    if len(arr_1) == 0 and len(arr_2) == 0:\n",
    "        return True\n",
    "    \n",
    "    if arr_1[0] != arr_2[0]:\n",
    "        return False\n",
    "    \n",
    "    left_subtree_1 = get_smaller(arr_1)\n",
    "    left_subtree_2 = get_smaller(arr_2)\n",
    "    right_subtree_1 = get_bigger_or_equal(arr_1)\n",
    "    right_subtree_2 = get_bigger_or_equal(arr_2)\n",
    "    \n",
    "    return is_same_bst(left_subtree_1, left_subtree_2) and is_same_bst(right_subtree_1, right_subtree_2)\n",
    "    \n",
    "\n",
    "def get_smaller(array: List) -> List:\n",
    "    node = array[0]\n",
    "    # from the second index onwards (array[1:]) ... check BST property against array[0]\n",
    "    smaller = [i for i in array[1:] if i < node]\n",
    "    return smaller\n",
    "\n",
    "def get_bigger_or_equal(array: List) -> List:\n",
    "    node = array[0]\n",
    "    # from the second index onwards (array[1:]) ... check BST property against array[0]\n",
    "    bigger = [i for i in array[1:] if i >= node]\n",
    "    return bigger\n",
    "    "
   ]
  },
  {
   "cell_type": "code",
   "execution_count": 2,
   "metadata": {},
   "outputs": [
    {
     "data": {
      "text/plain": [
       "True"
      ]
     },
     "execution_count": 2,
     "metadata": {},
     "output_type": "execute_result"
    }
   ],
   "source": [
    "array_1 = [10, 15, 12, 94]\n",
    "array_2 = [10, 15, 12, 94]\n",
    "is_same_bst(array_1, array_2)"
   ]
  },
  {
   "cell_type": "markdown",
   "metadata": {},
   "source": [
    "## Improving on previous solution\n",
    "We can improve the space complexity of $O(n^{2})$ by using index pointers to get rid of storing the arrays.\n",
    "\n",
    "It's a little confusing and a lot less readable than the first solution but far optimal than the first. :)"
   ]
  },
  {
   "cell_type": "code",
   "execution_count": 8,
   "metadata": {},
   "outputs": [],
   "source": [
    "# solution 2: more efficient\n",
    "# Time: O(n2) | O(d), where d == depth of the BST, while n == length of each input array\n",
    "def same_bst(a: List[int], b: List[int]) -> bool:\n",
    "    \"\"\"\n",
    "    a and b are arrays representing the two BSTs\n",
    "    \"\"\"\n",
    "    if len(a) != len(b):\n",
    "        return False\n",
    "    \n",
    "    return are_same_bsts(a, b, 0, 0, float(\"-inf\"), float(\"inf\"))\n",
    " \n",
    "\n",
    "def are_same_bsts(a: List[int], b: List[int], a_root_index: int, b_root_index: int, min_val, max_val) -> bool:\n",
    "    if a_root_index == -1 or b_root_index == -1:\n",
    "        return a_root_index == b_root_index\n",
    "    \n",
    "    if a[a_root_index] != b[b_root_index]:\n",
    "        return False\n",
    "    \n",
    "    left_root_index_a = get_index_smaller(a, a_root_index, min_val)\n",
    "    left_root_index_b = get_index_smaller(b, b_root_index, min_val)\n",
    "    right_root_index_a = get_index_bigger_or_equal(a, a_root_index, max_val)\n",
    "    right_root_index_b = get_index_bigger_or_equal(b, b_root_index, max_val)\n",
    "    \n",
    "    current_value = a[a_root_index]\n",
    "    left_are_same = are_same_bsts(\n",
    "        a, b, left_root_index_a, left_root_index_b, \n",
    "        min_val=min_val, \n",
    "        max_val=current_value\n",
    "    )\n",
    "    right_are_same = are_same_bsts(\n",
    "        a, b, right_root_index_a, right_root_index_b, \n",
    "        min_val=current_value, \n",
    "        max_val=max_val\n",
    "    )\n",
    "    return left_are_same and right_are_same\n",
    "\n",
    "\n",
    "def get_index_smaller(array: List, starting_index: int, min_val: int) -> int:\n",
    "    # Find the index of the first smaller value after the starting index.\n",
    "    # If it's less than the min value, it exists to the left subtree of the parent node\n",
    "    for i in range(starting_index + 1, len(array)):\n",
    "        if array[i] < array[starting_index] and array[i] >= min_val:\n",
    "            return i\n",
    "    return -1\n",
    "\n",
    "\n",
    "def get_index_bigger_or_equal(array: List, starting_index: int, max_val: int) -> int:\n",
    "    # Find the index of the first bigger/equal value after the starting index. \n",
    "    # If it is greater than the max value, it exists to the right subtree of the parent node.\n",
    "    for i in range(starting_index + 1, len(array)):\n",
    "        if array[i] >= array[starting_index] and array[i] < max_val:\n",
    "            return i\n",
    "    return -1\n",
    "    "
   ]
  },
  {
   "cell_type": "code",
   "execution_count": 9,
   "metadata": {},
   "outputs": [
    {
     "data": {
      "text/plain": [
       "True"
      ]
     },
     "execution_count": 9,
     "metadata": {},
     "output_type": "execute_result"
    }
   ],
   "source": [
    "same_bst([10, 15, 8, 12, 94, 80, 5, 2, 11], [10, 8, 5, 15, 2, 12, 11, 94, 80])"
   ]
  },
  {
   "cell_type": "code",
   "execution_count": 10,
   "metadata": {
    "scrolled": true
   },
   "outputs": [
    {
     "name": "stderr",
     "output_type": "stream",
     "text": [
      "...\n",
      "----------------------------------------------------------------------\n",
      "Ran 3 tests in 0.003s\n",
      "\n",
      "OK\n"
     ]
    }
   ],
   "source": [
    "import unittest\n",
    "\n",
    "class SameBSTTestCase(unittest.TestCase):\n",
    "    def test_same_bst(self):\n",
    "        a, b = list(range(10)), list(range(10))\n",
    "        self.assertEqual(same_bst(a, b), True)\n",
    "    \n",
    "    def test_different_bst(self):\n",
    "        a = list(range(10))\n",
    "        b = [12, 1, 4, 5, 2, 3, 6, 8, 8]\n",
    "        self.assertEqual(same_bst(a, b), False)\n",
    "        \n",
    "    def test_differently_ordered_bst_but_same(self):\n",
    "        a, b = [10, 15, 8, 12, 94, 80, 5, 2, 11], [10, 8, 5, 15, 2, 12, 11, 94, 80]\n",
    "        self.assertEqual(same_bst(a, b), True)\n",
    "\n",
    "if __name__ == '__main__':\n",
    "    unittest.main(argv=['first-arg-is-ignored'], exit=False)"
   ]
  },
  {
   "cell_type": "code",
   "execution_count": null,
   "metadata": {},
   "outputs": [],
   "source": []
  }
 ],
 "metadata": {
  "kernelspec": {
   "display_name": "Python 3 (ipykernel)",
   "language": "python",
   "name": "python3"
  },
  "language_info": {
   "codemirror_mode": {
    "name": "ipython",
    "version": 3
   },
   "file_extension": ".py",
   "mimetype": "text/x-python",
   "name": "python",
   "nbconvert_exporter": "python",
   "pygments_lexer": "ipython3",
   "version": "3.11.7"
  }
 },
 "nbformat": 4,
 "nbformat_minor": 4
}
