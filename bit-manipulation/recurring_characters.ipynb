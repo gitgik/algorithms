{
 "cells": [
  {
   "cell_type": "markdown",
   "id": "05a13efc",
   "metadata": {},
   "source": [
    "## Return recurring character in a string \n",
    "Given a string, return the first recurring character in it, or null if no recurring character.\n",
    "\n",
    "Example:\n",
    "- given string `\"acddab\"`, return `d`.\n",
    "- given string `\"algorithms\"` return null.\n"
   ]
  },
  {
   "cell_type": "markdown",
   "id": "6728ce00",
   "metadata": {},
   "source": [
    "### Solution \n",
    "We can solve this problem by keeping track of the characters we've seen in a set. Once we encounter it again, we return it.\n"
   ]
  },
  {
   "cell_type": "code",
   "execution_count": 1,
   "id": "9e8a9e6a",
   "metadata": {},
   "outputs": [],
   "source": [
    "def recurring_char(s):\n",
    "    seen = set()\n",
    "    for char in s:\n",
    "        if char in seen:\n",
    "            return char\n",
    "        seen.add(char)\n",
    "    return None"
   ]
  },
  {
   "cell_type": "markdown",
   "id": "7c52daa6",
   "metadata": {},
   "source": [
    "This runs in O(N) space and time, since we are iterating over the string.\n",
    "We can improve the space complexity by using bitwise operators to set the bits of characters already seen."
   ]
  },
  {
   "cell_type": "code",
   "execution_count": 2,
   "id": "1f7ff52c",
   "metadata": {},
   "outputs": [],
   "source": [
    "def first_recurring(s):\n",
    "    checker = 0\n",
    "    for char in s:\n",
    "        val = ord(char) - ord('a')\n",
    "        if (checker & (1 << val)) > 0:\n",
    "            return char\n",
    "        checker |= (1 << val)\n",
    "    return None"
   ]
  },
  {
   "cell_type": "code",
   "execution_count": 3,
   "id": "2ad71438",
   "metadata": {},
   "outputs": [
    {
     "data": {
      "text/plain": [
       "'f'"
      ]
     },
     "execution_count": 3,
     "metadata": {},
     "output_type": "execute_result"
    }
   ],
   "source": [
    "first_recurring(\"fluffywombat\")"
   ]
  }
 ],
 "metadata": {
  "kernelspec": {
   "display_name": "Python 3 (ipykernel)",
   "language": "python",
   "name": "python3"
  },
  "language_info": {
   "codemirror_mode": {
    "name": "ipython",
    "version": 3
   },
   "file_extension": ".py",
   "mimetype": "text/x-python",
   "name": "python",
   "nbconvert_exporter": "python",
   "pygments_lexer": "ipython3",
   "version": "3.9.7"
  }
 },
 "nbformat": 4,
 "nbformat_minor": 5
}
