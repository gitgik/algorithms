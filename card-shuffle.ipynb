{
 "cells": [
  {
   "cell_type": "markdown",
   "id": "23a35b6e",
   "metadata": {},
   "source": [
    "## Shuffle cards\n",
    "\n",
    "Given a function that generates perfectly random numbers between 1 and k (inclusive), where k is an input, write a function \n",
    "that shuffles a deck of cards represented as an array using only swaps.\n"
   ]
  },
  {
   "cell_type": "markdown",
   "id": "e3c5e1d2",
   "metadata": {},
   "source": [
    "### Solution\n",
    "The most common mistake people make when implementing the shuffle is something like this:\n",
    "-  Iterate through array with an index i\n",
    "-  Generate a random index j between 0 and n - 1, where n is the length of the array.\n",
    "-  Swap A[i] and A[j]\n"
   ]
  },
  {
   "cell_type": "code",
   "execution_count": null,
   "id": "307840a8",
   "metadata": {},
   "outputs": [],
   "source": [
    "import random\n",
    "def shuffle(array):\n",
    "    n = len(array)\n",
    "    for i in range(n):\n",
    "        j = random.randint(0, n - 1)\n",
    "        "
   ]
  }
 ],
 "metadata": {
  "kernelspec": {
   "display_name": "Python 3 (ipykernel)",
   "language": "python",
   "name": "python3"
  },
  "language_info": {
   "codemirror_mode": {
    "name": "ipython",
    "version": 3
   },
   "file_extension": ".py",
   "mimetype": "text/x-python",
   "name": "python",
   "nbconvert_exporter": "python",
   "pygments_lexer": "ipython3",
   "version": "3.9.13"
  }
 },
 "nbformat": 4,
 "nbformat_minor": 5
}
