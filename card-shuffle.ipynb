{
 "cells": [
  {
   "cell_type": "markdown",
   "id": "beb04fe1",
   "metadata": {},
   "source": [
    "## Shuffle cards\n",
    "\n",
    "Given a function that generates perfectly random numbers between 1 and k (inclusive), where k is an input, write a function \n",
    "that shuffles a deck of cards represented as an array using only swaps.\n"
   ]
  },
  {
   "cell_type": "markdown",
   "id": "1bfb3409",
   "metadata": {},
   "source": [
    "### Solution\n",
    "The most common mistake people make when implementing the shuffle is something like this:\n",
    "-  Iterate through array with an index i\n",
    "-  Generate a random index j between 0 and n - 1, where n is the length of the array.\n",
    "-  Swap A[i] and A[j]\n"
   ]
  },
  {
   "cell_type": "code",
   "execution_count": 2,
   "id": "9556ebca",
   "metadata": {},
   "outputs": [],
   "source": [
    "import random\n",
    "\n",
    "def shuffle(array):\n",
    "    n = len(array)\n",
    "    for i in range(n):\n",
    "        j = random.randint(0, n - 1)\n",
    "        array[i], array[j] = array[j], array[i]\n",
    "    return array"
   ]
  },
  {
   "cell_type": "markdown",
   "id": "66360237",
   "metadata": {},
   "source": [
    "The issue with this code is that it biases some outcomes. \n",
    "\n",
    "Consider the array [a, b, c]. At each step i, we have three different possible outcomes: switching the element at i with any other index in the array. Since we swap up to three times, we have 3<sup>3</sup> = 27 possible outcomes. But there are only 6 outcomes, and they all need to be equally likely:\n",
    "\n",
    "-  [a, b, c]\n",
    "-  [a, c, b]\n",
    "-  [b, a, c]\n",
    "-  [b, c, a]\n",
    "-  [c, a, b]\n",
    "-  [c, b, a]"
   ]
  },
  {
   "cell_type": "code",
   "execution_count": null,
   "id": "e464861f",
   "metadata": {},
   "outputs": [],
   "source": []
  }
 ],
 "metadata": {
  "kernelspec": {
   "display_name": "Python 3 (ipykernel)",
   "language": "python",
   "name": "python3"
  },
  "language_info": {
   "codemirror_mode": {
    "name": "ipython",
    "version": 3
   },
   "file_extension": ".py",
   "mimetype": "text/x-python",
   "name": "python",
   "nbconvert_exporter": "python",
   "pygments_lexer": "ipython3",
   "version": "3.9.13"
  }
 },
 "nbformat": 4,
 "nbformat_minor": 5
}
