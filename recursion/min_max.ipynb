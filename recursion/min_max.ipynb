{
 "cells": [
  {
   "cell_type": "markdown",
   "metadata": {},
   "source": [
    "### Problem\n",
    "Given an array of numbers of length N, find both the minimum and maximum using less than 2 * (N - 2) comparisons."
   ]
  },
  {
   "cell_type": "code",
   "execution_count": 1,
   "metadata": {},
   "outputs": [],
   "source": [
    "from typing import List, Tuple\n",
    "\n",
    "def min_max(array: List[int]) -> Tuple[int, int]:\n",
    "    if len(array) == 1:\n",
    "        return array[0], array[0]\n",
    "    elif len(array) == 2:\n",
    "        return (array[0], array[1]) if array[0] < array[1] else (array[1], array[0])\n",
    "    else:\n",
    "        mid = len(array) // 2\n",
    "        left_min, left_max = min_max(array[:mid])\n",
    "        right_min, right_max = min_max(array[mid:])\n",
    "        return min(left_min, right_min), max(left_max, right_max)\n"
   ]
  },
  {
   "cell_type": "code",
   "execution_count": 2,
   "metadata": {},
   "outputs": [
    {
     "data": {
      "text/plain": [
       "(1, 4)"
      ]
     },
     "execution_count": 2,
     "metadata": {},
     "output_type": "execute_result"
    }
   ],
   "source": [
    "min_max([1, 2, 3, 4])"
   ]
  },
  {
   "cell_type": "markdown",
   "metadata": {},
   "source": [
    "For array of size N, we are breaking down the problem into two subproblems of size `N / 2` plus `2` comparisons. \n",
    "\n",
    "```python\n",
    "# Recursively break down array\n",
    "[4, 2, 7, 5, -1, 3, 6] \n",
    "[[4, 2, 7, 5], [-1, 3, 6]]\n",
    "[[[4, 2], [7, 5]], [[-1, 3], [6]]]\n",
    "\n",
    "# Base case: reorder so that smaller comes before larger\n",
    "[[[2, 4], [5, 7]], [[-1, 3], [6, 6]]]\n",
    "\n",
    "# Merge to find min and max\n",
    "[[min(2, 5), max(4, 7)], [min(-1, 6), max(3, 6)]]\n",
    "[min(2, -1), max(7, 6)]\n",
    "[-1, 7] \n",
    "```"
   ]
  },
  {
   "cell_type": "markdown",
   "metadata": {},
   "source": [
    "## Time and space complexity\n",
    "Let's look at the base cases:\n",
    "1. **Base Cases:** If the array has 1 or 2 elements, the function performs a constant amount of work, i.e $O(1)$\n",
    "2. **Recursive case:**\n",
    "   - The array is split into two halves, each of size approximately $n/2$\n",
    "   - The function is called recursively on these two halves\n",
    "   - Merging the results from the two halves take constant time, $O(1)$"
   ]
  },
  {
   "cell_type": "markdown",
   "metadata": {},
   "source": [
    "Every element in the array is part of exactly one comparison at each level of recursion. Thus, each element is compared a constant number of times (twice to be exact) throughout the entire execution of the function.\n",
    "\n",
    "Therefore the total number of comparisons is proportional to the number of elements N, leading to an overall time complexity of $O(n)$"
   ]
  },
  {
   "cell_type": "markdown",
   "metadata": {},
   "source": [
    "The space complexity of the function is determined by the recursion depth and the space users at each level of recursion.\n",
    "\n",
    "1. Recursion Depth: the recursion depth is $log n$ since the array is split into halves at each recursive step.\n",
    "2. Auxiliary space: at each level of recursion, the function users a constant amount of space, $O(1)$, for variables like `mid, left_min, left_max, right_min, right_max`.\n",
    "2. Total space complexity: the space complexity is therefore dominated by the recursion depth, which is $O(log n)$\n",
    "\n"
   ]
  },
  {
   "cell_type": "code",
   "execution_count": null,
   "metadata": {},
   "outputs": [],
   "source": []
  }
 ],
 "metadata": {
  "kernelspec": {
   "display_name": "Python 3 (ipykernel)",
   "language": "python",
   "name": "python3"
  },
  "language_info": {
   "codemirror_mode": {
    "name": "ipython",
    "version": 3
   },
   "file_extension": ".py",
   "mimetype": "text/x-python",
   "name": "python",
   "nbconvert_exporter": "python",
   "pygments_lexer": "ipython3",
   "version": "3.11.7"
  }
 },
 "nbformat": 4,
 "nbformat_minor": 4
}
