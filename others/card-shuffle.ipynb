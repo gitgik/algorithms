{
 "cells": [
  {
   "cell_type": "markdown",
   "id": "2904cdc5",
   "metadata": {},
   "source": [
    "## Shuffle cards\n",
    "\n",
    "Given a function that generates perfectly random numbers between 1 and k (inclusive), where k is an input, write a function \n",
    "that shuffles a deck of cards represented as an array using only swaps. Return the shuffled array.\n",
    "\n",
    "Make sure that each one of the 52! permutations of the deck is equally likely.\n"
   ]
  },
  {
   "cell_type": "markdown",
   "id": "0e4e0115",
   "metadata": {},
   "source": [
    "### Solution\n",
    "The most common mistake people make when implementing the shuffle is something like this:\n",
    "-  Iterate through array with an index i\n",
    "-  Generate a random index j between 0 and n - 1, where n is the length of the array.\n",
    "-  Swap A[i] and A[j]\n"
   ]
  },
  {
   "cell_type": "code",
   "execution_count": 2,
   "id": "9d764aee",
   "metadata": {},
   "outputs": [],
   "source": [
    "import random\n",
    "\n",
    "def shuffle(array):\n",
    "    n = len(array)\n",
    "    for i in range(n):\n",
    "        j = random.randint(0, n - 1)\n",
    "        array[i], array[j] = array[j], array[i]\n",
    "    return array"
   ]
  },
  {
   "cell_type": "markdown",
   "id": "8c75a3a6",
   "metadata": {},
   "source": [
    "The issue with this code is that it biases some outcomes. \n",
    "\n",
    "Consider the array [a, b, c]. At each step i, we have three different possible outcomes: switching the element at i with any other index in the array. Since we swap up to three times, we have 3<sup>3</sup> = 27 possible outcomes. But there are only 6 outcomes, and they all need to be equally likely:\n",
    "\n",
    "-  [a, b, c]\n",
    "-  [a, c, b]\n",
    "-  [b, a, c]\n",
    "-  [b, c, a]\n",
    "-  [c, a, b]\n",
    "-  [c, b, a]"
   ]
  },
  {
   "cell_type": "markdown",
   "id": "a5fd09a4",
   "metadata": {},
   "source": [
    "We know that 6 does not divide into 26 evenly, so it must be the case that some outcomes are over-represented. Indeed, if we run this algorithm a million times, we see some skew:\n",
    "\n",
    "-  (1, 2, 3): occurs 148135 times\n",
    "-  (2, 1, 3): occurs 184530 times\n",
    "-  (1, 3, 2): occurs 185055 times\n",
    "-  (3, 2, 1): occurs 148641 times\n",
    "-  (2, 3, 1): occurs 185644 times\n",
    "-  (3, 1, 2): occurs 147995 times\n",
    "\n",
    "Remember that we want every permutation to be equally likely. In other words, any element should have 1 / n probability \n",
    "to end up in any spot of the shuffled array. To make sure each element has 1 / n probability of ending up in any spot, we can do:\n",
    "    \n",
    "-  Iterate through the array with an index i\n",
    "-  Generate a random index j between i and n - 1\n",
    "-  Swap A[i] and A[j]\n",
    "\n",
    "Why does this generate a uniform distribution? We can use a loop invariant to prove this.\n",
    "\n",
    "Our loop invariant will be the following:\n",
    "\n",
    "At each index i of our loop, all indices before i have an equally random probability of being any element in the array. So our invariant is true in this case.\n",
    "\n",
    "> Example: consider i = 1. \n",
    "We are swapping in this case A[0] with any index that spans the entire array. A[0] has an equally uniform probability of being any element in the array. So our invariant is true in this case.\n",
    "\n",
    "Assume our loop invariant is true until i and consider the loop at i + 1. Then we should calculate the probability of some element ending up at index i + 1. That's equal to the probability of not picking that element until i, and then choosing it.\n",
    "\n",
    "All the remaining elements must not hve been picked yet, which means it avoided being picked from 0 to i. That's a probability of:\n",
    "\n",
    "$\\frac{n - 1}n$ * $\\frac{n - 2}{n - 1}$ * ... * $\\frac{(n - i - 1)}{n - i}$\n",
    "\n",
    "Finally we need to choose it. Since there are (n - 1) remaining elements to choose from, the probability of actually choosing it is $\\frac{1}{n - i}$\n",
    "\n",
    "Putting them together, we have a probability of:\n",
    "\n",
    "$\\frac{n - 1}{n}$ * $\\frac{n - 2}{n - 1}$ * ... * $\\frac{n - i - 1}{n - i}$ * $\\frac{1}{n - i}$"
   ]
  },
  {
   "cell_type": "code",
   "execution_count": 3,
   "id": "d86a46f4",
   "metadata": {},
   "outputs": [],
   "source": [
    "def shuffle(arr):\n",
    "    n = len(arr)\n",
    "    for i in range(n - 1):\n",
    "        j = random.randint(i, n - 1)\n",
    "        arr[i], arr[j] = arr[j], arr[i]\n",
    "    return arr\n"
   ]
  },
  {
   "cell_type": "markdown",
   "id": "32e4c389",
   "metadata": {},
   "source": [
    "This algorithm is called the Fisher-Yates shuffle."
   ]
  }
 ],
 "metadata": {
  "kernelspec": {
   "display_name": "Python 3 (ipykernel)",
   "language": "python",
   "name": "python3"
  },
  "language_info": {
   "codemirror_mode": {
    "name": "ipython",
    "version": 3
   },
   "file_extension": ".py",
   "mimetype": "text/x-python",
   "name": "python",
   "nbconvert_exporter": "python",
   "pygments_lexer": "ipython3",
   "version": "3.9.13"
  }
 },
 "nbformat": 4,
 "nbformat_minor": 5
}
