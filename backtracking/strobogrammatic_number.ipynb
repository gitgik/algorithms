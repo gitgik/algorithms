{
 "cells": [
  {
   "cell_type": "markdown",
   "id": "0f4531ac",
   "metadata": {},
   "source": [
    "## Find all strobogrammatic numbers of N digits.\n",
    "\n",
    "A strobogrammatic number is a positive number that appears the same when flipped 180 degrees. \n",
    "Example: `18081` is strobogrammatic.\n"
   ]
  },
  {
   "cell_type": "markdown",
   "id": "5d828f0e",
   "metadata": {},
   "source": [
    "## Solution\n",
    "First we identify digits that when rotated, appear the same.\n",
    "0, 1, 8 have rotational symmetry. 6 and 9 complement each other when rotated.\n",
    "We can store this relationship in a map as follows\n",
    "\n",
    "```python\n",
    "flips = {\n",
    "    '0': '0', \n",
    "    '1': '1',\n",
    "    '8': '8',\n",
    "    '6': '9',\n",
    "    '9': '6',\n",
    "}\n",
    "```\n",
    "\n",
    "We can use backtracking to form each possible N-digit number. \n",
    "\n",
    "1. We start with one key, say 1. To this, we add any of the remaining keys as the 2nd digit. We continue doing this until the string is half the required length of N ==> `length(N + 1) // 2`.\n",
    "\n",
    "2. Next, we look at whether N is even or odd. \n",
    "- If N == even, add a mirror image of each digit (in reverse order) to the end of the string. Example, say N == 6, and our current string is `190`, its mirror image is `061`, resulting to a strogammatic => `190061`.\n",
    "- If N == odd, the last digit will be the center of the flip. So we mirror the first digits leading to the center only. Also, we cannot allow this center digit to be 6 or 9. \n",
    "\n",
    "3. Once we generate all this numbers starting with 1, we move to the other keys, appending each stobogrammatic number to a result list as we go.\n"
   ]
  },
  {
   "cell_type": "code",
   "execution_count": 12,
   "id": "b837cb3e",
   "metadata": {},
   "outputs": [],
   "source": [
    "def backtrack(n, flips, nums, result, curr):\n",
    "    \n",
    "    if len(curr) == (n + 1) // 2:\n",
    "        \n",
    "        # filter out numbers that begin with 0, and those that have 6, 9 as center digit\n",
    "        if (curr[0] == '0') or (n % 2 != 0 and curr[-1] in ('6', '9')):\n",
    "            return\n",
    "\n",
    "        # generate prefix depending on whether current number is even or odd\n",
    "        prefix = curr if n % 2 == 0 else curr[:-1]\n",
    "        \n",
    "        # take each digit down, flip it and reverse it\n",
    "        strobogrammatic = prefix + list(reversed([flips[num] for num in curr]))\n",
    "        \n",
    "        result.append(''.join(strobogrammatic))\n",
    "        \n",
    "    else:\n",
    "        for num in nums:\n",
    "            curr.append(num)\n",
    "            backtrack(n, flips, nums, result, curr)\n",
    "            curr.pop()\n",
    "    return result\n",
    "\n",
    "\n",
    "def strobo(n):\n",
    "    result = []\n",
    "    if n == 0:\n",
    "        return result\n",
    "    \n",
    "    flips = {'0': '0', '1': '1', '6': '9', '8': '8', '9': '6'}\n",
    "    nums = list(flips.keys())\n",
    "    \n",
    "    result = backtrack(n, flips, nums, result, [])\n",
    "    \n",
    "    return result"
   ]
  },
  {
   "cell_type": "code",
   "execution_count": 13,
   "id": "65f65a01",
   "metadata": {},
   "outputs": [
    {
     "data": {
      "text/plain": [
       "['1001',\n",
       " '1111',\n",
       " '1691',\n",
       " '1881',\n",
       " '1961',\n",
       " '6009',\n",
       " '6119',\n",
       " '6699',\n",
       " '6889',\n",
       " '6969',\n",
       " '8008',\n",
       " '8118',\n",
       " '8698',\n",
       " '8888',\n",
       " '8968',\n",
       " '9006',\n",
       " '9116',\n",
       " '9696',\n",
       " '9886',\n",
       " '9966']"
      ]
     },
     "execution_count": 13,
     "metadata": {},
     "output_type": "execute_result"
    }
   ],
   "source": [
    "strobo(4)"
   ]
  },
  {
   "cell_type": "code",
   "execution_count": null,
   "id": "9e5c8563",
   "metadata": {},
   "outputs": [],
   "source": []
  }
 ],
 "metadata": {
  "kernelspec": {
   "display_name": "Python 3 (ipykernel)",
   "language": "python",
   "name": "python3"
  },
  "language_info": {
   "codemirror_mode": {
    "name": "ipython",
    "version": 3
   },
   "file_extension": ".py",
   "mimetype": "text/x-python",
   "name": "python",
   "nbconvert_exporter": "python",
   "pygments_lexer": "ipython3",
   "version": "3.9.7"
  }
 },
 "nbformat": 4,
 "nbformat_minor": 5
}
