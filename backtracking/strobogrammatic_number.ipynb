{
 "cells": [
  {
   "cell_type": "markdown",
   "id": "08b40ad3",
   "metadata": {},
   "source": [
    "## Find all strobogrammatic numbers of N digits.\n",
    "\n",
    "A strobogrammatic number is a positive number that appears the same when flipped 180 degrees. \n",
    "Example: `18081` is strobogrammatic.\n"
   ]
  },
  {
   "cell_type": "markdown",
   "id": "b0a9e659",
   "metadata": {},
   "source": [
    "## Solution\n",
    "First we identify digits that when rotated, appear the same.\n",
    "0, 1, 8 have rotational symmetry. 6 and 9 complement each other when rotated.\n",
    "We can store this relationship in a map as follows\n",
    "\n",
    "```python\n",
    "flips = {\n",
    "    '0': '0', \n",
    "    '1': '1',\n",
    "    '8': '8',\n",
    "    '6': '9',\n",
    "    '9': '6',\n",
    "}\n",
    "```\n",
    "\n",
    "We can use backtracking to form each possible N-digit number. \n",
    "\n",
    "1. We start with one key, say 1. To this, we add any of the remaining keys as the 2nd digit. We continue doing this until the string is half the required length of N ==> `length(N + 1) // 2`.\n",
    "\n",
    "2. Next, we look at whether N is even or odd. \n",
    "- If N == even, add a mirror image of each digit (in reverse order) to the end of the string. Example, say N == 6, and our current string is `190`, its mirror image is `061`, resulting to a strogammatic => `190061`.\n",
    "- If N == odd, the last digit will be the center of the flip. So we mirror the first digits leading to the center only. Also, we cannot allow this center digit to be 6 or 9. \n",
    "\n",
    "3. Once we generate all this numbers starting with 1, we move to the other keys, appending each stobogrammatic number to a result list as we go.\n"
   ]
  },
  {
   "cell_type": "code",
   "execution_count": null,
   "id": "c40dd6c3",
   "metadata": {},
   "outputs": [],
   "source": []
  }
 ],
 "metadata": {
  "kernelspec": {
   "display_name": "Python 3 (ipykernel)",
   "language": "python",
   "name": "python3"
  },
  "language_info": {
   "codemirror_mode": {
    "name": "ipython",
    "version": 3
   },
   "file_extension": ".py",
   "mimetype": "text/x-python",
   "name": "python",
   "nbconvert_exporter": "python",
   "pygments_lexer": "ipython3",
   "version": "3.9.7"
  }
 },
 "nbformat": 4,
 "nbformat_minor": 5
}
