{
 "cells": [
  {
   "cell_type": "markdown",
   "id": "8353d285",
   "metadata": {},
   "source": [
    "Given a list of integers, return the largest product of three of the integers. You can assume that the list contains at least 3 integers. \n",
    "\n",
    "For example, if the list is [-5, -10, -10, 5, 2, 3], we should return 500, since that's -10 * -10 * 5."
   ]
  },
  {
   "cell_type": "markdown",
   "id": "d609108b",
   "metadata": {},
   "source": [
    "### First approach\n",
    "We will need to account for negative numbers in the array. \n",
    "\n",
    "If the largest product that can be made includes a negative number, we need to have two so as to cancel out the negatives. \n",
    "\n",
    "So, we can take the larger of:\n",
    "\n",
    "- The three largest numbers\n",
    "- The two smallest (most negative) numbers, and the largest number"
   ]
  },
  {
   "cell_type": "code",
   "execution_count": 23,
   "id": "90f82287",
   "metadata": {},
   "outputs": [],
   "source": [
    "def product(array) -> int:\n",
    "    # first find if there are two large -ves, multiply them with the largest positive.\n",
    "    # sort, multiply last 3\n",
    "    # return max(first, second)\n",
    "    array.sort()\n",
    "    first_product = array[0] * array[1] * array[-1]\n",
    "    second_product = array[-1] * array[-2] * array[-3]\n",
    "    return max(first_product, second_product)"
   ]
  },
  {
   "cell_type": "code",
   "execution_count": 24,
   "id": "63a3dd3b",
   "metadata": {},
   "outputs": [
    {
     "data": {
      "text/plain": [
       "500"
      ]
     },
     "execution_count": 24,
     "metadata": {},
     "output_type": "execute_result"
    }
   ],
   "source": [
    "array = [-5, -10, -10, 5, 2, 3]\n",
    "product(array)"
   ]
  },
  {
   "cell_type": "markdown",
   "id": "a6117e80",
   "metadata": {},
   "source": [
    "This runs in O(N log N) time since we have to sort the input array."
   ]
  },
  {
   "cell_type": "markdown",
   "id": "c410f54b",
   "metadata": {},
   "source": [
    "### Second approach without sorting\n",
    "We can find an O(N) solution by manually looking for the largest elements in the array.\n"
   ]
  },
  {
   "cell_type": "code",
   "execution_count": 35,
   "id": "1b1f0937",
   "metadata": {},
   "outputs": [],
   "source": [
    "def product(A) -> int:\n",
    "    max1, max2, max3, min1, min2 = float(\"-inf\"), float(\"-inf\"), float(\"-inf\"), float(\"inf\"), float(\"inf\")\n",
    "    \n",
    "    for i in A:\n",
    "        if i > max1:\n",
    "            max3 = max2\n",
    "            max2 = max1\n",
    "            max1 = i\n",
    "        elif i > max2:\n",
    "            max3 = max2\n",
    "            max2 = i\n",
    "        elif i > max3:\n",
    "            max3 = x\n",
    "            \n",
    "        if i < min1:\n",
    "            min2 = min1\n",
    "            min1 = i\n",
    "        elif i < min2:\n",
    "            min2 = i\n",
    "    \n",
    "    return max(max1 * max2 * max3, min1 * min2 * max1)\n",
    "            "
   ]
  },
  {
   "cell_type": "code",
   "execution_count": 36,
   "id": "262dfac4",
   "metadata": {},
   "outputs": [
    {
     "data": {
      "text/plain": [
       "500"
      ]
     },
     "execution_count": 36,
     "metadata": {},
     "output_type": "execute_result"
    }
   ],
   "source": [
    "product(array)"
   ]
  },
  {
   "cell_type": "code",
   "execution_count": null,
   "id": "cca7eef6",
   "metadata": {},
   "outputs": [],
   "source": []
  }
 ],
 "metadata": {
  "kernelspec": {
   "display_name": "Python 3 (ipykernel)",
   "language": "python",
   "name": "python3"
  },
  "language_info": {
   "codemirror_mode": {
    "name": "ipython",
    "version": 3
   },
   "file_extension": ".py",
   "mimetype": "text/x-python",
   "name": "python",
   "nbconvert_exporter": "python",
   "pygments_lexer": "ipython3",
   "version": "3.9.13"
  }
 },
 "nbformat": 4,
 "nbformat_minor": 5
}
