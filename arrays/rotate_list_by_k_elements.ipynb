{
 "cells": [
  {
   "cell_type": "markdown",
   "id": "f02cf060",
   "metadata": {},
   "source": [
    "## Problem\n",
    "\n",
    "Write a function that rotates a list by k elements.\n",
    "\n",
    "For example, [1, 2, 3, 4, 5, 6] rotated by two becomes [3, 4, 5, 6, 1, 2]. \n",
    "\n",
    "Try solving this without creating a copy of the list."
   ]
  },
  {
   "cell_type": "markdown",
   "id": "9970b864",
   "metadata": {},
   "source": [
    "## Solution\n",
    "We can rotate a list without creating a copy by moving each element down by one, k times. We must wrap around the list as well."
   ]
  },
  {
   "cell_type": "code",
   "execution_count": 2,
   "id": "2ffad0cb",
   "metadata": {},
   "outputs": [],
   "source": [
    "def rotate(array, k):\n",
    "    n = len(array) - 1\n",
    "    for _ in range(k):\n",
    "        first_element = array[0]\n",
    "        for i in range(n):\n",
    "            array[i] = array[i + 1]\n",
    "        array[n] = first_element\n",
    "    return array"
   ]
  },
  {
   "cell_type": "code",
   "execution_count": 3,
   "id": "0fe9b06b",
   "metadata": {},
   "outputs": [
    {
     "data": {
      "text/plain": [
       "[3, 4, 5, 1, 2]"
      ]
     },
     "execution_count": 3,
     "metadata": {},
     "output_type": "execute_result"
    }
   ],
   "source": [
    "rotate([1,2,3,4,5], 2)"
   ]
  },
  {
   "cell_type": "markdown",
   "id": "288bb26f",
   "metadata": {},
   "source": [
    "Although this takes constant space, this will take O(n * k) time.\n",
    "\n",
    "We can use a different approach.\n",
    "First, we transform the array into two subarrays:\n",
    "- array[k:], \n",
    "- array[:k]\n",
    "\n",
    "By reversing these two subarrays and then reversing the whole subarray we can effectively rotate the array in linear time, and constant space."
   ]
  },
  {
   "cell_type": "code",
   "execution_count": 6,
   "id": "291237b5",
   "metadata": {},
   "outputs": [],
   "source": [
    "def rotate(array, k):\n",
    "    reverse(array, 0, k - 1)\n",
    "    reverse(array, k, len(array) - 1)\n",
    "    reverse(array, 0, len(array) - 1)\n",
    "    return array\n",
    "\n",
    "def reverse(array, i, j):\n",
    "    while i < j:\n",
    "        array[i], array[j] = array[j], array[i]\n",
    "        i += 1\n",
    "        j -= 1"
   ]
  },
  {
   "cell_type": "code",
   "execution_count": 8,
   "id": "d2a8e054",
   "metadata": {},
   "outputs": [
    {
     "data": {
      "text/plain": [
       "[4, 5, 6, 7, 1, 2, 3]"
      ]
     },
     "execution_count": 8,
     "metadata": {},
     "output_type": "execute_result"
    }
   ],
   "source": [
    "rotate([1, 2, 3, 4, 5, 6, 7], 3)"
   ]
  }
 ],
 "metadata": {
  "kernelspec": {
   "display_name": "Python 3 (ipykernel)",
   "language": "python",
   "name": "python3"
  },
  "language_info": {
   "codemirror_mode": {
    "name": "ipython",
    "version": 3
   },
   "file_extension": ".py",
   "mimetype": "text/x-python",
   "name": "python",
   "nbconvert_exporter": "python",
   "pygments_lexer": "ipython3",
   "version": "3.9.7"
  }
 },
 "nbformat": 4,
 "nbformat_minor": 5
}
