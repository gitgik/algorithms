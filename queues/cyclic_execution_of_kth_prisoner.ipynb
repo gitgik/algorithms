{
 "cells": [
  {
   "cell_type": "markdown",
   "id": "9ec92477",
   "metadata": {},
   "source": [
    "## Problem\n",
    "\n",
    "There are N prisoners standing at a circle, waiting to be executed. Executions start with the Kth person, and goes on clockwise, removing every successive Kth person until there's no one left.\n",
    "\n",
    "Given N and K, determine where the prisoner should stand in order to be the last survivor.\n",
    "\n",
    "For example, if N = 5, and k = 2, order of executions will be [2, 4, 1, 5, 3] so return 3.\n"
   ]
  },
  {
   "cell_type": "code",
   "execution_count": 1,
   "id": "8c273245",
   "metadata": {},
   "outputs": [],
   "source": [
    "def last_executed(n, k):\n",
    "    # create list of size n\n",
    "    prisoners = [i for i in range(1, n + 1)]\n",
    "    # use zero-based index\n",
    "    i = k - 1\n",
    "    \n",
    "    # loop through cyclicly over prisoners list, until last visited prisoner\n",
    "    while (n > 1):\n",
    "        prisoners.pop(i)\n",
    "        i = (i + k - 1) % len(prisoners)\n",
    "        n -= 1\n",
    "    return prisoners[0]"
   ]
  },
  {
   "cell_type": "code",
   "execution_count": 2,
   "id": "f7993107",
   "metadata": {},
   "outputs": [
    {
     "data": {
      "text/plain": [
       "3"
      ]
     },
     "execution_count": 2,
     "metadata": {},
     "output_type": "execute_result"
    }
   ],
   "source": [
    "last_executed(5, 2)"
   ]
  },
  {
   "cell_type": "markdown",
   "id": "3a64b114",
   "metadata": {},
   "source": [
    "Since popping from a random index in a list is O(N) and we are doing this N times, the solution runs in O(N^2).\n",
    "\n",
    "We can improve the efficiency by using a double-ended queue. \n",
    "\n",
    "We will rotate our list in O(k) time by using a deque, so that we can pop elements at the end.\n",
    "This allows us to eliminate each prisoner in O(k) time, thereby making the whole solution run in O(k * N)\n"
   ]
  },
  {
   "cell_type": "code",
   "execution_count": 5,
   "id": "5d0b8b1d",
   "metadata": {},
   "outputs": [],
   "source": [
    "from collections import deque\n",
    "\n",
    "def last_one_standing(n, k):\n",
    "    prisoners = deque(range(1, n + 1))\n",
    "    \n",
    "    while (n > 1):\n",
    "        prisoners.rotate(-k)\n",
    "        prisoners.pop()\n",
    "        \n",
    "        n -= 1\n",
    "        \n",
    "    return prisoners[0]\n"
   ]
  },
  {
   "cell_type": "code",
   "execution_count": 6,
   "id": "7ac2cc97",
   "metadata": {},
   "outputs": [
    {
     "data": {
      "text/plain": [
       "3"
      ]
     },
     "execution_count": 6,
     "metadata": {},
     "output_type": "execute_result"
    }
   ],
   "source": [
    "last_one_standing(5, 2)"
   ]
  }
 ],
 "metadata": {
  "kernelspec": {
   "display_name": "Python 3 (ipykernel)",
   "language": "python",
   "name": "python3"
  },
  "language_info": {
   "codemirror_mode": {
    "name": "ipython",
    "version": 3
   },
   "file_extension": ".py",
   "mimetype": "text/x-python",
   "name": "python",
   "nbconvert_exporter": "python",
   "pygments_lexer": "ipython3",
   "version": "3.9.7"
  }
 },
 "nbformat": 4,
 "nbformat_minor": 5
}
