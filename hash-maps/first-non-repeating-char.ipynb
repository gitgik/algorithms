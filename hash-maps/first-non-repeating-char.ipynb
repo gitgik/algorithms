{
 "cells": [
  {
   "cell_type": "markdown",
   "id": "f1c1117e",
   "metadata": {},
   "source": [
    "## First non-repeating character\n",
    "Given a string `s` consisting of small English letters, find and return the first instance of a non-repeating character in it. If there is no such character, return '_'.\n",
    "\n",
    "For example, `given s = \"abacabad\"`, the output should be `c`"
   ]
  },
  {
   "cell_type": "code",
   "execution_count": 1,
   "id": "3958e08a",
   "metadata": {},
   "outputs": [],
   "source": [
    "# s = asfadsdvsa\"\n",
    "\n",
    "def solution(s):\n",
    "    count = {}\n",
    "    for c in s:\n",
    "        count[c] = 1 + count.get(c, 0)\n",
    "    \n",
    "    for c in count:\n",
    "        if count[c] == 1:\n",
    "            return c\n",
    "    return '_'\n",
    "    "
   ]
  },
  {
   "cell_type": "code",
   "execution_count": 2,
   "id": "9785c70e",
   "metadata": {},
   "outputs": [
    {
     "data": {
      "text/plain": [
       "'c'"
      ]
     },
     "execution_count": 2,
     "metadata": {},
     "output_type": "execute_result"
    }
   ],
   "source": [
    "solution(\"abacabad\")"
   ]
  },
  {
   "cell_type": "code",
   "execution_count": 3,
   "id": "d5eaca74",
   "metadata": {},
   "outputs": [
    {
     "data": {
      "text/plain": [
       "'_'"
      ]
     },
     "execution_count": 3,
     "metadata": {},
     "output_type": "execute_result"
    }
   ],
   "source": [
    "solution(\"abacabaaacaba\")"
   ]
  },
  {
   "cell_type": "code",
   "execution_count": null,
   "id": "469bba6a",
   "metadata": {},
   "outputs": [],
   "source": []
  }
 ],
 "metadata": {
  "kernelspec": {
   "display_name": "Python 3 (ipykernel)",
   "language": "python",
   "name": "python3"
  },
  "language_info": {
   "codemirror_mode": {
    "name": "ipython",
    "version": 3
   },
   "file_extension": ".py",
   "mimetype": "text/x-python",
   "name": "python",
   "nbconvert_exporter": "python",
   "pygments_lexer": "ipython3",
   "version": "3.9.13"
  }
 },
 "nbformat": 4,
 "nbformat_minor": 5
}
