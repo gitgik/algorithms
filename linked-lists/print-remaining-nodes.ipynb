{
 "cells": [
  {
   "cell_type": "markdown",
   "id": "1bfa7fc2",
   "metadata": {},
   "source": [
    "## Remove all consecutive nodes that sum to zero\n",
    "Given a linked list, remove all consecutive nodes that sum to zero. \n",
    "Print out the remaining nodes.\n",
    "\n",
    "Example:\n",
    "    Given the input 2 -> 3 -> -5 -> 7 -> -1 -> 1,\n",
    "    \n",
    "    Remove 2 -> 3 -> -5, then remove -1 -> 1, leaving 7\n",
    "    \n"
   ]
  },
  {
   "cell_type": "code",
   "execution_count": 1,
   "id": "18b6319d",
   "metadata": {},
   "outputs": [],
   "source": [
    "class LinkedList:\n",
    "    def __init__(self, data, next=None):\n",
    "        self.data = data\n",
    "        self.next = next"
   ]
  },
  {
   "cell_type": "code",
   "execution_count": 2,
   "id": "de6a2dd6",
   "metadata": {},
   "outputs": [],
   "source": [
    "def print_node(ll):\n",
    "    start = end = ll\n",
    "    \n",
    "    while start:\n",
    "        end = start\n",
    "        total = 0\n",
    "        skip = False\n",
    "        \n",
    "        while end:\n",
    "            total += end.data\n",
    "            if total == 0:\n",
    "                start = end\n",
    "                skip = True\n",
    "                break\n",
    "            end = end.next\n",
    "        \n",
    "        if not skip:\n",
    "            print(start.data)\n",
    "        start = start.next"
   ]
  },
  {
   "cell_type": "code",
   "execution_count": 3,
   "id": "c304e304",
   "metadata": {},
   "outputs": [],
   "source": [
    "ll = LinkedList(2, next=LinkedList(3, next=LinkedList(-5, next=LinkedList(7, next=LinkedList(-1, next=LinkedList(1))))))"
   ]
  },
  {
   "cell_type": "code",
   "execution_count": 4,
   "id": "ade4757a",
   "metadata": {},
   "outputs": [
    {
     "name": "stdout",
     "output_type": "stream",
     "text": [
      "7\n"
     ]
    }
   ],
   "source": [
    "print_node(ll)"
   ]
  },
  {
   "cell_type": "markdown",
   "id": "0f5cacdc",
   "metadata": {},
   "source": [
    "### Solution explanation\n",
    "The key information here is that the nodes that sum to zero must be consecutive.\n",
    "We can therefore solve this using two-pointer approach.\n",
    "\n",
    "1. Both our start and end pointer will be at the head of our linked list. \n",
    "2. The end node will traverse the list. While doing so, we add each successive value to a running total sum.\n",
    "3. If at a point the total adds to zero, we know that we shouldn't print these nodes. Therefore, we advance the start pointer past each of them and continue the process.\n",
    "4. For a given start node, if we're able to traverse all reamining nodes without summing to zero, that node must be part of the solution. Once we print the value of the node, we advance the start pointer one node forward and repeat.\n",
    "\n",
    "In the worst case, we must move our end pointer across the remainder of the linked list for each potential start node, taking O(N<sup>2</sup>). Total space required is O(1) since at any given point we are only tracking the two pointers and our running total sum"
   ]
  },
  {
   "cell_type": "code",
   "execution_count": null,
   "id": "157593bb",
   "metadata": {},
   "outputs": [],
   "source": []
  }
 ],
 "metadata": {
  "kernelspec": {
   "display_name": "Python 3 (ipykernel)",
   "language": "python",
   "name": "python3"
  },
  "language_info": {
   "codemirror_mode": {
    "name": "ipython",
    "version": 3
   },
   "file_extension": ".py",
   "mimetype": "text/x-python",
   "name": "python",
   "nbconvert_exporter": "python",
   "pygments_lexer": "ipython3",
   "version": "3.9.13"
  }
 },
 "nbformat": 4,
 "nbformat_minor": 5
}
