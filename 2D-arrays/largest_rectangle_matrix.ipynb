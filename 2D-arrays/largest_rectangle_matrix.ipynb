{
 "cells": [
  {
   "cell_type": "markdown",
   "metadata": {},
   "source": [
    "## Problem\n",
    "\n",
    "Given an N by M matrix consisting only of 1's and 0's, find the largest rectangle containing only 1's and return its area.\n",
    "\n",
    "For example, given the following matrix:\n",
    "\n",
    "```python\n",
    "matrix = [\n",
    "    [1, 0, 0, 0, 1],\n",
    "    [1, 0, 1, 1, 1],\n",
    "    [1, 0, 1, 1, 1],\n",
    "    [0, 1, 0, 0, 1]\n",
    "]\n",
    " ```\n",
    "Return 6\n",
    "\n"
   ]
  },
  {
   "cell_type": "code",
   "execution_count": 1,
   "metadata": {},
   "outputs": [],
   "source": [
    "from typing import List\n",
    "\n",
    "def largest_rectangle(matrix: List[List[int]]) -> int:\n",
    "    \"\"\"O(M^3 * N^3) time | O(1) space\"\"\"\n",
    "    \n",
    "    max_so_far = 0\n",
    "    n, m = len(matrix), len(matrix[0])\n",
    "    for top_left_row in range(n):\n",
    "        for top_left_col in range(m):\n",
    "            for bottom_right_row in range(n, top_left_row, -1):\n",
    "                for bottom_right_col in range(m, top_left_col, -1):\n",
    "                    # check if the cell is valid (has 1)\n",
    "                    if is_valid(\n",
    "                        matrix,\n",
    "                        top_left_row,\n",
    "                        top_left_col,\n",
    "                        bottom_right_row,\n",
    "                        bottom_right_col\n",
    "                    ):\n",
    "                        max_so_far = max(\n",
    "                            max_so_far, \n",
    "                            ((bottom_right_row - top_left_row) * (bottom_right_col - top_left_col))\n",
    "                        )\n",
    "    return max_so_far\n",
    "\n",
    "\n",
    "def is_valid(matrix, top_left_row, top_left_col, bottom_right_row, bottom_right_col):\n",
    "    for i in range(top_left_row, bottom_right_row):\n",
    "        for j in range(top_left_col, bottom_right_col):\n",
    "            if matrix[i][j] == 0:\n",
    "                return False\n",
    "    return True"
   ]
  },
  {
   "cell_type": "code",
   "execution_count": 2,
   "metadata": {},
   "outputs": [
    {
     "data": {
      "text/plain": [
       "6"
      ]
     },
     "execution_count": 2,
     "metadata": {},
     "output_type": "execute_result"
    }
   ],
   "source": [
    "matrix = [\n",
    "    [1, 0, 0, 0, 1],\n",
    "    [1, 0, 1, 1, 1],\n",
    "    [1, 0, 1, 1, 1],\n",
    "    [0, 1, 0, 0, 1]\n",
    "]\n",
    "largest_rectangle(matrix)"
   ]
  },
  {
   "cell_type": "code",
   "execution_count": null,
   "metadata": {},
   "outputs": [],
   "source": []
  }
 ],
 "metadata": {
  "kernelspec": {
   "display_name": "Python 3 (ipykernel)",
   "language": "python",
   "name": "python3"
  },
  "language_info": {
   "codemirror_mode": {
    "name": "ipython",
    "version": 3
   },
   "file_extension": ".py",
   "mimetype": "text/x-python",
   "name": "python",
   "nbconvert_exporter": "python",
   "pygments_lexer": "ipython3",
   "version": "3.11.7"
  }
 },
 "nbformat": 4,
 "nbformat_minor": 4
}
