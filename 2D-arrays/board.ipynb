{
 "cells": [
  {
   "cell_type": "markdown",
   "metadata": {},
   "source": [
    "## Find Word in 2D Board\n",
    "\n",
    "Given a 2D board of characters and a word, find if the word exists in the grid.\n",
    "\n",
    "The word can be constructed from letters of sequentially adjacent cell, where \"adjacent\" cells are those horizontally or vertically neighboring. The same letter cell may not be used more than once.\n",
    "\n",
    "For example, given the following board:\n",
    "\n",
    "```python\n",
    "[\n",
    "  ['A','B','C','E'],\n",
    "  ['S','F','C','S'],\n",
    "  ['A','D','E','E']\n",
    "]\n",
    "```\n",
    "\n",
    "exists(board, \"ABCCED\") returns true, \n",
    "\n",
    "exists(board, \"SEE\") returns true, \n",
    "\n",
    "exists(board, \"ABCB\") returns false."
   ]
  },
  {
   "cell_type": "markdown",
   "metadata": {},
   "source": [
    "### Approach\n",
    "We can view the board as a graph, where the characters are nodes, and their edges point to adjacent characters. We can then perform a depth-first or breadth-first search. \n",
    "\n",
    "We can choose DFS because it is easier to implement.\n",
    "\n",
    "The recursive depth will be limited by the length.\n",
    "Since we can exit the search once we reach the end of the word, the recursive depth of the call stack will be limited by the length of the word."
   ]
  },
  {
   "cell_type": "code",
   "execution_count": 1,
   "metadata": {},
   "outputs": [],
   "source": [
    "from typing import List, Set, Tuple\n",
    "\n",
    "def search(\n",
    "    board: List[List[str]],\n",
    "    row: int,\n",
    "    col: int,\n",
    "    word: str,\n",
    "    index: int,\n",
    "    visited: Set[Tuple[int, int]) -> bool:\n",
    "    def is_valid(board, row, col):\n",
    "        return row >= 0 and row < len(board) and col >= 0 and col < len(board[0])\n",
    "    \n",
    "    if not is_valid(board, row, col):\n",
    "        return False\n",
    "    if (row, col) in visited:\n",
    "        return False\n",
    "    if board[row][col] != word[index]:\n",
    "        return False\n",
    "    if index == len(word) - 1:\n",
    "        return True\n",
    "    \n",
    "    print(f'Adding {(row, col)} into set')\n",
    "    visited.add((row, col))\n",
    "    \n",
    "    for d in  ((0, -1), (0, 1), (-1, 0), (1, 0)):\n",
    "        print(f\"searching at {(row + d[0], col + d[1])}\")\n",
    "        \n",
    "        if search(board, row + d[0], col + d[1], word, index + 1, visited):\n",
    "            return True\n",
    "    # backtrack\n",
    "    print(f\"removing {(row, col)} from set\")\n",
    "    visited.remove((row, col))  \n",
    "    \n",
    "    return False\n",
    "    \n",
    "    \n",
    "def find_word(board, word):\n",
    "    for row in range(len(board)):\n",
    "        for col in range(len(board[0])):\n",
    "            visited = set()\n",
    "            if search(board, row, col, word, 0, visited):\n",
    "                return True\n",
    "    return False"
   ]
  },
  {
   "cell_type": "code",
   "execution_count": 2,
   "metadata": {},
   "outputs": [
    {
     "name": "stdout",
     "output_type": "stream",
     "text": [
      "Adding (1, 0) into set\n",
      "searching at (1, -1)\n",
      "searching at (1, 1)\n",
      "searching at (0, 0)\n",
      "searching at (2, 0)\n",
      "removing (1, 0) from set\n",
      "Adding (1, 3) into set\n",
      "searching at (1, 2)\n",
      "searching at (1, 4)\n",
      "searching at (0, 3)\n",
      "Adding (0, 3) into set\n",
      "searching at (0, 2)\n",
      "searching at (0, 4)\n",
      "searching at (-1, 3)\n",
      "searching at (1, 3)\n",
      "removing (0, 3) from set\n",
      "searching at (2, 3)\n",
      "Adding (2, 3) into set\n",
      "searching at (2, 2)\n"
     ]
    },
    {
     "data": {
      "text/plain": [
       "True"
      ]
     },
     "execution_count": 2,
     "metadata": {},
     "output_type": "execute_result"
    }
   ],
   "source": [
    "board = [\n",
    "  ['A','B','C','E'],\n",
    "  ['S','F','C','S'],\n",
    "  ['A','D','E','E']\n",
    "]\n",
    "\n",
    "find_word(board, 'SEE')"
   ]
  },
  {
   "cell_type": "code",
   "execution_count": 3,
   "metadata": {},
   "outputs": [
    {
     "name": "stdout",
     "output_type": "stream",
     "text": [
      "Adding (0, 0) into set\n",
      "searching at (0, -1)\n",
      "searching at (0, 1)\n",
      "searching at (-1, 0)\n",
      "searching at (1, 0)\n",
      "removing (0, 0) from set\n",
      "Adding (2, 0) into set\n",
      "searching at (2, -1)\n",
      "searching at (2, 1)\n",
      "searching at (1, 0)\n",
      "searching at (3, 0)\n",
      "removing (2, 0) from set\n"
     ]
    },
    {
     "data": {
      "text/plain": [
       "False"
      ]
     },
     "execution_count": 3,
     "metadata": {},
     "output_type": "execute_result"
    }
   ],
   "source": [
    "find_word(board, 'AWORD')"
   ]
  },
  {
   "cell_type": "code",
   "execution_count": 5,
   "metadata": {},
   "outputs": [
    {
     "name": "stdout",
     "output_type": "stream",
     "text": [
      "Adding (1, 0) into set\n",
      "searching at (1, -1)\n",
      "searching at (1, 1)\n",
      "searching at (0, 0)\n",
      "Adding (0, 0) into set\n",
      "searching at (0, -1)\n",
      "searching at (0, 1)\n",
      "searching at (-1, 0)\n",
      "searching at (1, 0)\n",
      "removing (0, 0) from set\n",
      "searching at (2, 0)\n",
      "Adding (2, 0) into set\n",
      "searching at (2, -1)\n",
      "searching at (2, 1)\n",
      "Adding (2, 1) into set\n",
      "searching at (2, 0)\n",
      "searching at (2, 2)\n"
     ]
    },
    {
     "data": {
      "text/plain": [
       "True"
      ]
     },
     "execution_count": 5,
     "metadata": {},
     "output_type": "execute_result"
    }
   ],
   "source": [
    "find_word(board, \"SADE\")"
   ]
  },
  {
   "cell_type": "code",
   "execution_count": null,
   "metadata": {},
   "outputs": [],
   "source": []
  }
 ],
 "metadata": {
  "kernelspec": {
   "display_name": "Python 3 (ipykernel)",
   "language": "python",
   "name": "python3"
  },
  "language_info": {
   "codemirror_mode": {
    "name": "ipython",
    "version": 3
   },
   "file_extension": ".py",
   "mimetype": "text/x-python",
   "name": "python",
   "nbconvert_exporter": "python",
   "pygments_lexer": "ipython3",
   "version": "3.11.7"
  }
 },
 "nbformat": 4,
 "nbformat_minor": 4
}
