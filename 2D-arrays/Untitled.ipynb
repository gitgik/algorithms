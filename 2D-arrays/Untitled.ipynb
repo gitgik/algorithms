{
 "cells": [
  {
   "cell_type": "code",
   "execution_count": 5,
   "id": "4bb25953",
   "metadata": {},
   "outputs": [],
   "source": [
    "board = [\n",
    "  ['A','B','C','E'],\n",
    "  ['S','F','C','S'],\n",
    "  ['A','D','E','E']\n",
    "]\n",
    "\n",
    "def find(board: list, word: str):\n",
    "    for row in range(0, len(board)):\n",
    "        for col in range(0, len(board)):\n",
    "            visited = set()\n",
    "            if search(board, word, row, col, 0, visited):\n",
    "                return True\n",
    "    return False\n",
    "    \n",
    "def search(board, word, row, col, index, visited):\n",
    "    def is_valid(board, row, col):\n",
    "        return row >= 0 and row <= len(board) and col >= 0 and col <= len(board[0])\n",
    "    # basecase 1: search is complete without finding\n",
    "    if not is_valid(board, row, col):\n",
    "        return False\n",
    "    if (row, col) in visited:\n",
    "        return False\n",
    "    if board[row][col] != word[index]:\n",
    "        return False\n",
    "    if index == len(board) - 1:\n",
    "        return True\n",
    "    \n",
    "    visited.add((row, col))\n",
    "    \n",
    "    for d in ((0, -1), (0, 1), (-1, 0), (1, 0)):\n",
    "        if search(board, word, row + d[0], col + d[1], index + 1, visited):\n",
    "            return True\n",
    "    # backttrack\n",
    "    visited.remove((row, col))\n",
    "    \n",
    "    return False\n"
   ]
  },
  {
   "cell_type": "code",
   "execution_count": 6,
   "id": "143b615d",
   "metadata": {},
   "outputs": [
    {
     "data": {
      "text/plain": [
       "True"
      ]
     },
     "execution_count": 6,
     "metadata": {},
     "output_type": "execute_result"
    }
   ],
   "source": [
    "find(board, \"ABCCS\")"
   ]
  },
  {
   "cell_type": "code",
   "execution_count": 7,
   "id": "ee105b5a",
   "metadata": {},
   "outputs": [
    {
     "data": {
      "text/plain": [
       "True"
      ]
     },
     "execution_count": 7,
     "metadata": {},
     "output_type": "execute_result"
    }
   ],
   "source": [
    "find(board, \"ECCE\")"
   ]
  },
  {
   "cell_type": "code",
   "execution_count": null,
   "id": "4a2d982e",
   "metadata": {},
   "outputs": [],
   "source": []
  }
 ],
 "metadata": {
  "kernelspec": {
   "display_name": "Python 3 (ipykernel)",
   "language": "python",
   "name": "python3"
  },
  "language_info": {
   "codemirror_mode": {
    "name": "ipython",
    "version": 3
   },
   "file_extension": ".py",
   "mimetype": "text/x-python",
   "name": "python",
   "nbconvert_exporter": "python",
   "pygments_lexer": "ipython3",
   "version": "3.9.13"
  }
 },
 "nbformat": 4,
 "nbformat_minor": 5
}
