{
 "cells": [
  {
   "cell_type": "code",
   "execution_count": 52,
   "id": "8e4a4f37-cee9-4a55-8721-225a61618228",
   "metadata": {},
   "outputs": [],
   "source": [
    "from typing import List\n",
    "\n",
    "class TreeNode:\n",
    "    def __init__(self, val=None, left=None, right=None):\n",
    "        self.val = val\n",
    "        self.left = left\n",
    "        self.right = right\n",
    "\n",
    "\n",
    "def invert_tree(root: TreeNode) -> TreeNode:\n",
    "    if root is None:\n",
    "        return root\n",
    "    right = invert_tree(root.right)\n",
    "    left = invert_tree(root.left)\n",
    "    root.left = right\n",
    "    root.right = left\n",
    "    return root"
   ]
  },
  {
   "cell_type": "code",
   "execution_count": null,
   "id": "5f698049-2613-4f40-b7e3-aaa18ebd61bd",
   "metadata": {},
   "outputs": [],
   "source": []
  }
 ],
 "metadata": {
  "kernelspec": {
   "display_name": "Python 3 (ipykernel)",
   "language": "python",
   "name": "python3"
  },
  "language_info": {
   "codemirror_mode": {
    "name": "ipython",
    "version": 3
   },
   "file_extension": ".py",
   "mimetype": "text/x-python",
   "name": "python",
   "nbconvert_exporter": "python",
   "pygments_lexer": "ipython3",
   "version": "3.11.7"
  }
 },
 "nbformat": 4,
 "nbformat_minor": 5
}
