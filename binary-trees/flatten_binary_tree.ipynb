{
 "cells": [
  {
   "cell_type": "markdown",
   "metadata": {},
   "source": [
    "## Flatten Binary Tree\n",
    "Write a function that takes in a binary tree, flatten it, and returns the left-most node.\n",
    "\n",
    "Sample input:\n",
    "```\n",
    "tree =   1\n",
    "        /  \\\n",
    "       2    3\n",
    "     / \\   /\n",
    "    4   5  6\n",
    "       / \\\n",
    "      7   8\n",
    "```\n",
    "\n",
    "Sample output:\n",
    "```python\n",
    "4 <-> 2 <-> 7 <-> 5 <-> 8 <-> 1 <-> 6 <-> 3\n",
    "```\n"
   ]
  },
  {
   "cell_type": "code",
   "execution_count": 2,
   "metadata": {},
   "outputs": [],
   "source": [
    "class BinaryTree:\n",
    "    def __init__(self, value, left=None, right=None):\n",
    "        self.value = value\n",
    "        self.left = left\n",
    "        self.right = right\n",
    "\n",
    "def inorderTraversal(root, array):\n",
    "    if root is not None:\n",
    "        inorderTraversal(root.left, array)\n",
    "        array.append(root)\n",
    "        inorderTraversal(root.right, array)\n",
    "    return array\n",
    "\n",
    "def flattenBinaryTree(root):\n",
    "    \"\"\"We in-order traverse the tree and save the values in an array. \n",
    "    Then we create the structure and return left-most node\"\"\"\n",
    "    array = inorderTraversal(root, [])\n",
    "    for i in range(0, len(array) - 1):\n",
    "        leftNode = array[i]\n",
    "        rightNode = array[i + 1]\n",
    "        leftNode.right = rightNode\n",
    "        rightNode.left = leftNode\n",
    "    return array[0]"
   ]
  },
  {
   "cell_type": "code",
   "execution_count": 3,
   "metadata": {},
   "outputs": [],
   "source": [
    "def flattenTree(root):\n",
    "    \"\"\"O (n) time | O(d) space, where d = depth of tree (because of the recursive calls on the callstack)\n",
    "    If the tree is a balanced binary tree, then it runs on O(log(N)) space.\n",
    "    \"\"\"\n",
    "    leftMostNode, _ = flatten(root)\n",
    "    return leftMostNode\n",
    "    \n",
    "    \n",
    "def flatten(node):\n",
    "    # get the left most node and right most node of our current subtree\n",
    "    \n",
    "    # base case: The left leaf node is the left most node, rooted at itself\n",
    "    if node.left is None:\n",
    "        leftMost = node\n",
    "    else:\n",
    "        leftMostLeftSubtreeNode, rightMostLeftSubtreeNode = flatten(node.left)\n",
    "        # update left and right pointers\n",
    "        connectNodes(leftSubtreeRightMost, node)\n",
    "        leftMost = leftSubtreeLeftMost\n",
    "    \n",
    "    # base case: The right leaf node is the right most node, rooted at itself\n",
    "    if node.right is None:\n",
    "        rightMost = node\n",
    "    else:\n",
    "        leftMostRightSubtreeNode, rightMostRightSubTreeNode = flatten(node.right)\n",
    "        connectNodes(node, rightMostRightSubtreeNode)\n",
    "        rightMost = rightSubtreeRightMost\n",
    "    \n",
    "    \n",
    "    return [leftMost, rightMost]\n",
    "\n",
    "def connectNodes(leftNode, rightNode):\n",
    "    leftNode.right = rightNode\n",
    "    rightNode.left = leftNode"
   ]
  },
  {
   "cell_type": "code",
   "execution_count": null,
   "metadata": {},
   "outputs": [],
   "source": []
  }
 ],
 "metadata": {
  "kernelspec": {
   "display_name": "Python 3 (ipykernel)",
   "language": "python",
   "name": "python3"
  },
  "language_info": {
   "codemirror_mode": {
    "name": "ipython",
    "version": 3
   },
   "file_extension": ".py",
   "mimetype": "text/x-python",
   "name": "python",
   "nbconvert_exporter": "python",
   "pygments_lexer": "ipython3",
   "version": "3.11.7"
  }
 },
 "nbformat": 4,
 "nbformat_minor": 4
}
