{
 "cells": [
  {
   "cell_type": "markdown",
   "metadata": {},
   "source": [
    "### Min-Heap construction\n",
    "Implement a min-heap class that support:\n",
    "- building a min-heap from an array of integers.\n",
    "- inserting values into the heap\n",
    "- removing the root of the heap\n",
    "- peeking the root of the heap\n",
    "- sifting up through the heap (used when adding a new value)\n",
    "- sifting down through the heap (used to rearrange the heap to form a min-heap)\n",
    "    \n",
    "Represent the min-heap as an array. So given an input array, create the min-heap **inplace**."
   ]
  },
  {
   "cell_type": "code",
   "execution_count": 1,
   "metadata": {},
   "outputs": [],
   "source": [
    "class MinHeap:\n",
    "    def __init__(self, array):\n",
    "        self.heap = self.buildHeap(array)\n",
    "    \n",
    "    def buildHeap(self, array):\n",
    "        \"\"\"O(n) time | O(1) space, where n = number of elements in input array.\"\"\"\n",
    "        lastParentIndex = (len(array) - 2) // 2\n",
    "        for currentIndex in reversed(range(lastParentIndex + 1)):\n",
    "            self.siftDown(currentIndex, len(array) - 1, array)\n",
    "        return array\n",
    "    \n",
    "    def siftDown(self, currentIdx, endIdx, heap):\n",
    "        \"\"\"O(log n) time | O(1) space\"\"\"\n",
    "        childOneIdx = currentIdx * 2 + 1\n",
    "        while childOneIdx <= endIdx:\n",
    "            if currentIdx * 2 + 2 <= endIdx:\n",
    "                childTwoIdx = currentIdx * 2 + 2\n",
    "            else:\n",
    "                childTwoIdx = -1\n",
    "                \n",
    "            if childTwoIdx != -1 and childTwoIdx < childOneIdx:\n",
    "                indexToSwap = childTwoIdx\n",
    "            else:\n",
    "                indexToSwap = childOneIdx\n",
    "            \n",
    "            if heap[indexToSwap] < heap[currentIdx]:\n",
    "                self.swap(currentIdx, indexToSwap, heap)\n",
    "                # update the new current index\n",
    "                currentIdx = indexToSwap\n",
    "                # get the new child for this new currentIdx, if any\n",
    "                childOneIdx = currentIdx * 2 + 1\n",
    "            else:\n",
    "                return\n",
    "    \n",
    "    def siftUp(self, currentIdx, heap):\n",
    "        \"\"\"O(log n) time | O(1) space\"\"\"\n",
    "        parentIdx = (currentIdx - 1) // 2\n",
    "        while currentIdx > 0 and heap[parentIdx] < heap[currentIdx]:\n",
    "            self.swap(parentIdx, currentIdx, heap)\n",
    "            currentIdx = parentIdx\n",
    "            parentIdx = (currentIdx - 1) // 2\n",
    "            \n",
    "    def insert(self, value):\n",
    "        \"\"\"O(log n) time | O(1) space\"\"\"\n",
    "        self.heap.append(value)\n",
    "        self.siftUp(len(self.heap) - 1, self.heap)\n",
    "    \n",
    "    def remove(self):\n",
    "        \"\"\"O(log n) time | O(1) space\"\"\"\n",
    "        self.swap(0, len(self.heap) - 1, self.heap)\n",
    "        valueToRemove = self.heap.pop()\n",
    "        self.siftDown(0, len(self.heap) - 1, self.heap)\n",
    "        return valueToRemove\n",
    "    \n",
    "    def peek(self):\n",
    "        \"\"\"O(1) time | O(1) space\"\"\"\n",
    "        return self.heap[0]\n",
    "        \n",
    "    def swap(self, i, j, heap):\n",
    "        heap[i], heap[j] = heap[j], heap[i]"
   ]
  },
  {
   "cell_type": "code",
   "execution_count": 2,
   "metadata": {},
   "outputs": [
    {
     "data": {
      "text/plain": [
       "-3"
      ]
     },
     "execution_count": 2,
     "metadata": {},
     "output_type": "execute_result"
    }
   ],
   "source": [
    "minheap = MinHeap([23, 45, 10, -3, 4, 16, 20, 7])\n",
    "minheap.peek()"
   ]
  },
  {
   "cell_type": "code",
   "execution_count": null,
   "metadata": {},
   "outputs": [],
   "source": []
  }
 ],
 "metadata": {
  "kernelspec": {
   "display_name": "Python 3 (ipykernel)",
   "language": "python",
   "name": "python3"
  },
  "language_info": {
   "codemirror_mode": {
    "name": "ipython",
    "version": 3
   },
   "file_extension": ".py",
   "mimetype": "text/x-python",
   "name": "python",
   "nbconvert_exporter": "python",
   "pygments_lexer": "ipython3",
   "version": "3.11.7"
  }
 },
 "nbformat": 4,
 "nbformat_minor": 4
}
