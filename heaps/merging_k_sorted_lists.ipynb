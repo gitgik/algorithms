{
 "cells": [
  {
   "cell_type": "markdown",
   "id": "866d79f8-1255-4191-be70-5422116127c6",
   "metadata": {},
   "source": [
    "## Merging K sorted linked lists\n",
    "You are given k sorted lists, each with n elements. Your task is to merge these k sorted linked lists into one sorted linked list and return the head of the merged linked list.\n"
   ]
  },
  {
   "cell_type": "markdown",
   "id": "238d648c-0782-41a0-888d-096d5e71c827",
   "metadata": {},
   "source": [
    "## Brute-force method \n",
    "The straightforward but inefficient approach to merging k sorted lists is to combine all elements into a single list and then sort the combined list and finally, convert it back into a linked list.\n",
    "- Traverse each element of the k sorted lists and add them into a single array\n",
    "- Sort the combined list\n",
    "- Create a new sorted linked list from the sorted array."
   ]
  },
  {
   "cell_type": "code",
   "execution_count": null,
   "id": "1bbbb16c-7705-417d-8d08-2e8a0d35f84c",
   "metadata": {},
   "outputs": [],
   "source": [
    "class ListNode:\n",
    "    def __init__(self, val=0, next=None):\n",
    "        self.val = val\n",
    "        self.next = next\n",
    "\n",
    "def mergeKListBruteForce(lists):\n",
    "    \n",
    "    elements = []\n",
    "    # collect all elements\n",
    "    for l in lists:\n",
    "        while l:\n",
    "            elements.append(l.val)\n",
    "            l = l.next\n",
    "    # sort the collected  elements\n",
    "    elements.sort()\n",
    "\n",
    "    # create a new sorted linked list\n",
    "    result = ListNode()\n",
    "    current = result\n",
    "    for val in elements:\n",
    "        current.next = ListNode(val)\n",
    "        current = current.next\n",
    "\n",
    "    return result.next\n",
    "\n",
    "    result = ListNode(elements[0])\n",
    "    current = result\n",
    "    for i in range(1, len(elememts) - 1):\n",
    "        val = elements[i]\n",
    "        current.next = ListNode(val)\n",
    "        current = current.next\n",
    "    \n",
    "    "
   ]
  }
 ],
 "metadata": {
  "kernelspec": {
   "display_name": "Python 3 (ipykernel)",
   "language": "python",
   "name": "python3"
  },
  "language_info": {
   "codemirror_mode": {
    "name": "ipython",
    "version": 3
   },
   "file_extension": ".py",
   "mimetype": "text/x-python",
   "name": "python",
   "nbconvert_exporter": "python",
   "pygments_lexer": "ipython3",
   "version": "3.11.7"
  }
 },
 "nbformat": 4,
 "nbformat_minor": 5
}
