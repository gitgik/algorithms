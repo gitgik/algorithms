{
 "cells": [
  {
   "cell_type": "markdown",
   "id": "866d79f8-1255-4191-be70-5422116127c6",
   "metadata": {},
   "source": [
    "## Merging K sorted linked lists\n",
    "You are given k sorted lists, each with n elements. Your task is to merge these k sorted linked lists into one sorted linked list and return the head of the merged linked list.\n"
   ]
  },
  {
   "cell_type": "markdown",
   "id": "238d648c-0782-41a0-888d-096d5e71c827",
   "metadata": {},
   "source": [
    "## Brute-force method \n",
    "The straightforward but inefficient approach to merging k sorted lists is to combine all elements into a single list and then sort the combined list and finally, convert it back into a linked list.\n",
    "- Traverse each element of the k sorted lists and add them into a single array\n",
    "- Sort the combined list\n",
    "- Create a new sorted linked list from the sorted array."
   ]
  },
  {
   "cell_type": "code",
   "execution_count": 2,
   "id": "1bbbb16c-7705-417d-8d08-2e8a0d35f84c",
   "metadata": {},
   "outputs": [],
   "source": [
    "class ListNode:\n",
    "    def __init__(self, val=0, next=None):\n",
    "        self.val = val\n",
    "        self.next = next\n",
    "\n",
    "def mergeKListBruteForce(lists):\n",
    "    \n",
    "    elements = []\n",
    "    # collect all elements\n",
    "    for l in lists:\n",
    "        while l:\n",
    "            elements.append(l.val)\n",
    "            l = l.next\n",
    "    # sort the collected  elements\n",
    "    elements.sort()\n",
    "\n",
    "    # create a new sorted linked list\n",
    "    if not elements:\n",
    "        return None\n",
    "    \n",
    "    result = ListNode()\n",
    "    current = result\n",
    "    for val in elements:\n",
    "        current.next = ListNode(val)\n",
    "        current = current.next\n",
    "\n",
    "    return result.next\n",
    "\n",
    "    head = ListNode(elements[0])\n",
    "    current = head\n",
    "    for i in range(1, len(elememts)):\n",
    "        val = elements[i]\n",
    "        current.next = ListNode(val)\n",
    "        current = current.next\n",
    "    return head"
   ]
  },
  {
   "cell_type": "markdown",
   "id": "4f2d7461-2761-4719-a415-bc3d92d982eb",
   "metadata": {},
   "source": [
    "## Optimal solution\n",
    "To solve this problem efficiently, we can use a min-heap. Heaps are binary trees for which every parent node has a value less than or equal to its children.\n",
    "- initialize a min-heap to track the smallest elements among the k-lists\n",
    "- insert the first element of each of the k lists into the min-heap. Each element in the heap is a tuple that contains the value and reference to the node.\n",
    "- Repeatedly extract the minimum element from the heap, add it to the merged list, and insert the next element from the same list into the heap\n",
    "- Continue the process until the heap is empty, which means that all elements from all lists have been processed and added to the merged list.\n",
    "\n",
    "  "
   ]
  },
  {
   "cell_type": "code",
   "execution_count": 4,
   "id": "66891faa-8bb2-41c1-88a2-11270ed97906",
   "metadata": {},
   "outputs": [],
   "source": [
    "from heapq import heappush, heappop\n",
    "from typing import List, Optional\n",
    "\n",
    "def mergeKLists(lists: List[Optional[ListNode]]) -> Optional[ListNode]:\n",
    "    min_heap = []\n",
    "\n",
    "    for i, node in enumerate(lists):\n",
    "        # the heap stores the tuple of the form (node.val, index, node - reference to the node itself)\n",
    "        heappush(min_heap, (node.val, i, node))\n",
    "\n",
    "    # create a dummy head for the result linked list\n",
    "    dummy = ListNode()\n",
    "    current = dummy\n",
    "\n",
    "    while min_heap:\n",
    "        val, i, node = heappop(min_heap)\n",
    "        current.next = node\n",
    "        current = current.next\n",
    "        if node.next:\n",
    "            heappush(min_heap, (node.next.val, i, node.next))\n",
    "    return dummy.next"
   ]
  },
  {
   "cell_type": "code",
   "execution_count": 5,
   "id": "ae58ebfb-1831-4469-9769-d8321b39d322",
   "metadata": {},
   "outputs": [],
   "source": [
    "# Example usage\n",
    "def create_linked_list(vals):\n",
    "    head = ListNode(vals[0])\n",
    "    current = head\n",
    "    for i in range(1, len(vals)):\n",
    "        current.next = ListNode(vals[i])\n",
    "        current = current.next\n",
    "    return head\n",
    "\n",
    "def print_linked_list(head):\n",
    "    while head:\n",
    "        print(head.val, end=' -> ')\n",
    "        head = head.next\n",
    "    print('None')\n",
    "\n",
    "lists = [create_linked_list([1, 4, 5]), create_linked_list([1, 3, 4]), create_linked_list([2, 7])]\n",
    "merged_list = mergeKLists(lists)"
   ]
  },
  {
   "cell_type": "code",
   "execution_count": 7,
   "id": "a4016875-1250-47f1-bce5-982921693312",
   "metadata": {},
   "outputs": [
    {
     "name": "stdout",
     "output_type": "stream",
     "text": [
      "1 -> 1 -> 2 -> 3 -> 4 -> 4 -> 5 -> 7 -> None\n"
     ]
    }
   ],
   "source": [
    "print_linked_list(merged_list)"
   ]
  },
  {
   "cell_type": "code",
   "execution_count": null,
   "id": "388fa1f1-74ea-4f00-a79a-adc1b69cc7b3",
   "metadata": {},
   "outputs": [],
   "source": []
  }
 ],
 "metadata": {
  "kernelspec": {
   "display_name": "Python 3 (ipykernel)",
   "language": "python",
   "name": "python3"
  },
  "language_info": {
   "codemirror_mode": {
    "name": "ipython",
    "version": 3
   },
   "file_extension": ".py",
   "mimetype": "text/x-python",
   "name": "python",
   "nbconvert_exporter": "python",
   "pygments_lexer": "ipython3",
   "version": "3.11.7"
  }
 },
 "nbformat": 4,
 "nbformat_minor": 5
}
